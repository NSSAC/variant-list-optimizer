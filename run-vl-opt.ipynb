{
 "cells": [
  {
   "cell_type": "markdown",
   "id": "83920937-d45d-493c-80a2-77bdaba0a84c",
   "metadata": {},
   "source": [
    "# Run Variant List Optimizer"
   ]
  },
  {
   "cell_type": "code",
   "execution_count": 1,
   "id": "a98219ee-7d3b-4506-a047-717767d0c32e",
   "metadata": {},
   "outputs": [],
   "source": [
    "import sys\n",
    "\n",
    "import ray\n",
    "from ray.job_config import JobConfig\n",
    "\n",
    "import pandas as pd"
   ]
  },
  {
   "cell_type": "code",
   "execution_count": 2,
   "id": "667247c7-c8e7-425f-97a5-d136627df698",
   "metadata": {},
   "outputs": [],
   "source": [
    "num_cpus = 37 # usable cpus on BII nodes on rivanna"
   ]
  },
  {
   "cell_type": "code",
   "execution_count": 3,
   "id": "f5a41214-e889-44dd-8431-e81ab839e965",
   "metadata": {},
   "outputs": [
    {
     "name": "stderr",
     "output_type": "stream",
     "text": [
      "2024-04-18 14:20:07,543\tINFO worker.py:1743 -- Started a local Ray instance. View the dashboard at \u001b[1m\u001b[32mhttp://127.0.0.1:8265 \u001b[39m\u001b[22m\n"
     ]
    },
    {
     "data": {
      "application/vnd.jupyter.widget-view+json": {
       "model_id": "b1b1f411a78e4676a0033be8eef6cdf0",
       "version_major": 2,
       "version_minor": 0
      },
      "text/html": [
       "<div class=\"lm-Widget p-Widget lm-Panel p-Panel jp-Cell-outputWrapper\">\n",
       "    <div style=\"margin-left: 50px;display: flex;flex-direction: row;align-items: center\">\n",
       "        <div class=\"jp-RenderedHTMLCommon\" style=\"display: flex; flex-direction: row;\">\n",
       "  <svg viewBox=\"0 0 567 224\" fill=\"none\" xmlns=\"http://www.w3.org/2000/svg\" style=\"height: 3em;\">\n",
       "    <g clip-path=\"url(#clip0_4338_178347)\">\n",
       "        <path d=\"M341.29 165.561H355.29L330.13 129.051C345.63 123.991 354.21 112.051 354.21 94.2307C354.21 71.3707 338.72 58.1807 311.88 58.1807H271V165.561H283.27V131.661H311.8C314.25 131.661 316.71 131.501 319.01 131.351L341.25 165.561H341.29ZM283.29 119.851V70.0007H311.82C331.3 70.0007 342.34 78.2907 342.34 94.5507C342.34 111.271 331.34 119.861 311.82 119.861L283.29 119.851ZM451.4 138.411L463.4 165.561H476.74L428.74 58.1807H416L367.83 165.561H380.83L392.83 138.411H451.4ZM446.19 126.601H398L422 72.1407L446.24 126.601H446.19ZM526.11 128.741L566.91 58.1807H554.35L519.99 114.181L485.17 58.1807H472.44L514.01 129.181V165.541H526.13V128.741H526.11Z\" fill=\"var(--jp-ui-font-color0)\"/>\n",
       "        <path d=\"M82.35 104.44C84.0187 97.8827 87.8248 92.0678 93.1671 87.9146C98.5094 83.7614 105.083 81.5067 111.85 81.5067C118.617 81.5067 125.191 83.7614 130.533 87.9146C135.875 92.0678 139.681 97.8827 141.35 104.44H163.75C164.476 101.562 165.622 98.8057 167.15 96.2605L127.45 56.5605C121.071 60.3522 113.526 61.6823 106.235 60.3005C98.9443 58.9187 92.4094 54.9203 87.8602 49.0574C83.3109 43.1946 81.0609 35.8714 81.5332 28.4656C82.0056 21.0599 85.1679 14.0819 90.4252 8.8446C95.6824 3.60726 102.672 0.471508 110.08 0.0272655C117.487 -0.416977 124.802 1.86091 130.647 6.4324C136.493 11.0039 140.467 17.5539 141.821 24.8501C143.175 32.1463 141.816 39.6859 138 46.0505L177.69 85.7505C182.31 82.9877 187.58 81.4995 192.962 81.4375C198.345 81.3755 203.648 82.742 208.33 85.3976C213.012 88.0532 216.907 91.9029 219.616 96.5544C222.326 101.206 223.753 106.492 223.753 111.875C223.753 117.258 222.326 122.545 219.616 127.197C216.907 131.848 213.012 135.698 208.33 138.353C203.648 141.009 198.345 142.375 192.962 142.313C187.58 142.251 182.31 140.763 177.69 138L138 177.7C141.808 184.071 143.155 191.614 141.79 198.91C140.424 206.205 136.44 212.75 130.585 217.313C124.731 221.875 117.412 224.141 110.004 223.683C102.596 223.226 95.6103 220.077 90.3621 214.828C85.1139 209.58 81.9647 202.595 81.5072 195.187C81.0497 187.779 83.3154 180.459 87.878 174.605C92.4405 168.751 98.9853 164.766 106.281 163.401C113.576 162.035 121.119 163.383 127.49 167.19L167.19 127.49C165.664 124.941 164.518 122.182 163.79 119.3H141.39C139.721 125.858 135.915 131.673 130.573 135.826C125.231 139.98 118.657 142.234 111.89 142.234C105.123 142.234 98.5494 139.98 93.2071 135.826C87.8648 131.673 84.0587 125.858 82.39 119.3H60C58.1878 126.495 53.8086 132.78 47.6863 136.971C41.5641 141.163 34.1211 142.972 26.7579 142.059C19.3947 141.146 12.6191 137.574 7.70605 132.014C2.79302 126.454 0.0813599 119.29 0.0813599 111.87C0.0813599 104.451 2.79302 97.2871 7.70605 91.7272C12.6191 86.1673 19.3947 82.5947 26.7579 81.6817C34.1211 80.7686 41.5641 82.5781 47.6863 86.7696C53.8086 90.9611 58.1878 97.2456 60 104.44H82.35ZM100.86 204.32C103.407 206.868 106.759 208.453 110.345 208.806C113.93 209.159 117.527 208.258 120.522 206.256C123.517 204.254 125.725 201.276 126.771 197.828C127.816 194.38 127.633 190.677 126.253 187.349C124.874 184.021 122.383 181.274 119.205 179.577C116.027 177.88 112.359 177.337 108.826 178.042C105.293 178.746 102.113 180.654 99.8291 183.44C97.5451 186.226 96.2979 189.718 96.3 193.32C96.2985 195.364 96.7006 197.388 97.4831 199.275C98.2656 201.163 99.4132 202.877 100.86 204.32ZM204.32 122.88C206.868 120.333 208.453 116.981 208.806 113.396C209.159 109.811 208.258 106.214 206.256 103.219C204.254 100.223 201.275 98.0151 197.827 96.97C194.38 95.9249 190.676 96.1077 187.348 97.4873C184.02 98.8669 181.274 101.358 179.577 104.536C177.879 107.714 177.337 111.382 178.041 114.915C178.746 118.448 180.653 121.627 183.439 123.911C186.226 126.195 189.717 127.443 193.32 127.44C195.364 127.443 197.388 127.042 199.275 126.259C201.163 125.476 202.878 124.328 204.32 122.88ZM122.88 19.4205C120.333 16.8729 116.981 15.2876 113.395 14.9347C109.81 14.5817 106.213 15.483 103.218 17.4849C100.223 19.4868 98.0146 22.4654 96.9696 25.9131C95.9245 29.3608 96.1073 33.0642 97.4869 36.3922C98.8665 39.7202 101.358 42.4668 104.535 44.1639C107.713 45.861 111.381 46.4036 114.914 45.6992C118.447 44.9949 121.627 43.0871 123.911 40.301C126.195 37.515 127.442 34.0231 127.44 30.4205C127.44 28.3772 127.038 26.3539 126.255 24.4664C125.473 22.5788 124.326 20.8642 122.88 19.4205ZM19.42 100.86C16.8725 103.408 15.2872 106.76 14.9342 110.345C14.5813 113.93 15.4826 117.527 17.4844 120.522C19.4863 123.518 22.4649 125.726 25.9127 126.771C29.3604 127.816 33.0638 127.633 36.3918 126.254C39.7198 124.874 42.4664 122.383 44.1635 119.205C45.8606 116.027 46.4032 112.359 45.6988 108.826C44.9944 105.293 43.0866 102.114 40.3006 99.8296C37.5145 97.5455 34.0227 96.2983 30.42 96.3005C26.2938 96.3018 22.337 97.9421 19.42 100.86ZM100.86 100.86C98.3125 103.408 96.7272 106.76 96.3742 110.345C96.0213 113.93 96.9226 117.527 98.9244 120.522C100.926 123.518 103.905 125.726 107.353 126.771C110.8 127.816 114.504 127.633 117.832 126.254C121.16 124.874 123.906 122.383 125.604 119.205C127.301 116.027 127.843 112.359 127.139 108.826C126.434 105.293 124.527 102.114 121.741 99.8296C118.955 97.5455 115.463 96.2983 111.86 96.3005C109.817 96.299 107.793 96.701 105.905 97.4835C104.018 98.2661 102.303 99.4136 100.86 100.86Z\" fill=\"#00AEEF\"/>\n",
       "    </g>\n",
       "    <defs>\n",
       "        <clipPath id=\"clip0_4338_178347\">\n",
       "            <rect width=\"566.93\" height=\"223.75\" fill=\"white\"/>\n",
       "        </clipPath>\n",
       "    </defs>\n",
       "  </svg>\n",
       "</div>\n",
       "\n",
       "        <table class=\"jp-RenderedHTMLCommon\" style=\"border-collapse: collapse;color: var(--jp-ui-font-color1);font-size: var(--jp-ui-font-size1);\">\n",
       "    <tr>\n",
       "        <td style=\"text-align: left\"><b>Python version:</b></td>\n",
       "        <td style=\"text-align: left\"><b>3.11.8</b></td>\n",
       "    </tr>\n",
       "    <tr>\n",
       "        <td style=\"text-align: left\"><b>Ray version:</b></td>\n",
       "        <td style=\"text-align: left\"><b>2.10.0</b></td>\n",
       "    </tr>\n",
       "    <tr>\n",
       "    <td style=\"text-align: left\"><b>Dashboard:</b></td>\n",
       "    <td style=\"text-align: left\"><b><a href=\"http://127.0.0.1:8265\" target=\"_blank\">http://127.0.0.1:8265</a></b></td>\n",
       "</tr>\n",
       "\n",
       "</table>\n",
       "\n",
       "    </div>\n",
       "</div>\n"
      ],
      "text/plain": [
       "RayContext(dashboard_url='127.0.0.1:8265', python_version='3.11.8', ray_version='2.10.0', ray_commit='09abba26b5bf2707639bb637c208d062a47b46f6')"
      ]
     },
     "execution_count": 3,
     "metadata": {},
     "output_type": "execute_result"
    }
   ],
   "source": [
    "code_dir = \"/home/pb5gj/variant-list-optimizer\"\n",
    "\n",
    "sys.path.append(code_dir)\n",
    "ray.init(job_config=JobConfig(code_search_path=[code_dir]))"
   ]
  },
  {
   "cell_type": "code",
   "execution_count": 4,
   "id": "c09cf2cb-d75a-4c28-a160-dbc29b13e345",
   "metadata": {},
   "outputs": [],
   "source": [
    "from variant_list_optimizer import *"
   ]
  },
  {
   "cell_type": "code",
   "execution_count": 5,
   "id": "1021ae36-e4a1-4f2c-9589-02084f2f05f8",
   "metadata": {},
   "outputs": [],
   "source": [
    "oi_fname = \"/project/nssac_covid19/COVID-19_commons/products/external_data_collection/variants/outbreak_info_variants_states_long.csv\""
   ]
  },
  {
   "cell_type": "code",
   "execution_count": 6,
   "id": "27eb51e6-d1ab-4ee4-adac-50f6573576dc",
   "metadata": {},
   "outputs": [],
   "source": [
    "usecols = [\"date\", \"lineage\", \"fips\", \"lineage_count\"]\n",
    "parse_dates = [\"date\"]\n",
    "\n",
    "oi_df = pd.read_csv(oi_fname, usecols=usecols, parse_dates=parse_dates, low_memory=False)\n",
    "oi_df = oi_df.rename(columns={\n",
    "    \"lineage\": \"variant\",\n",
    "    \"lineage_count\": \"weight\"\n",
    "})\n",
    "\n",
    "oi_df = oi_df.dropna(subset=[\"date\", \"variant\"])"
   ]
  },
  {
   "cell_type": "code",
   "execution_count": 7,
   "id": "9413b55f-182a-4ff8-ac52-a0dfbb1cf760",
   "metadata": {},
   "outputs": [
    {
     "data": {
      "text/html": [
       "<div>\n",
       "<style scoped>\n",
       "    .dataframe tbody tr th:only-of-type {\n",
       "        vertical-align: middle;\n",
       "    }\n",
       "\n",
       "    .dataframe tbody tr th {\n",
       "        vertical-align: top;\n",
       "    }\n",
       "\n",
       "    .dataframe thead th {\n",
       "        text-align: right;\n",
       "    }\n",
       "</style>\n",
       "<table border=\"1\" class=\"dataframe\">\n",
       "  <thead>\n",
       "    <tr style=\"text-align: right;\">\n",
       "      <th></th>\n",
       "      <th>weight</th>\n",
       "      <th>date</th>\n",
       "      <th>variant</th>\n",
       "      <th>fips</th>\n",
       "    </tr>\n",
       "  </thead>\n",
       "  <tbody>\n",
       "    <tr>\n",
       "      <th>478533</th>\n",
       "      <td>1</td>\n",
       "      <td>2021-04-20</td>\n",
       "      <td>B.1.351</td>\n",
       "      <td>34</td>\n",
       "    </tr>\n",
       "    <tr>\n",
       "      <th>352460</th>\n",
       "      <td>1</td>\n",
       "      <td>2022-12-08</td>\n",
       "      <td>BQ.1.2</td>\n",
       "      <td>24</td>\n",
       "    </tr>\n",
       "    <tr>\n",
       "      <th>32992</th>\n",
       "      <td>1</td>\n",
       "      <td>2024-02-07</td>\n",
       "      <td>JN.1.4.6</td>\n",
       "      <td>04</td>\n",
       "    </tr>\n",
       "    <tr>\n",
       "      <th>87518</th>\n",
       "      <td>1</td>\n",
       "      <td>2023-02-24</td>\n",
       "      <td>BQ.1.1.7</td>\n",
       "      <td>06</td>\n",
       "    </tr>\n",
       "    <tr>\n",
       "      <th>676886</th>\n",
       "      <td>3</td>\n",
       "      <td>2021-08-28</td>\n",
       "      <td>AY.3.1</td>\n",
       "      <td>47</td>\n",
       "    </tr>\n",
       "    <tr>\n",
       "      <th>115508</th>\n",
       "      <td>1</td>\n",
       "      <td>2023-09-06</td>\n",
       "      <td>XBB.1.16.3</td>\n",
       "      <td>06</td>\n",
       "    </tr>\n",
       "    <tr>\n",
       "      <th>890510</th>\n",
       "      <td>8</td>\n",
       "      <td>2020-04-10</td>\n",
       "      <td>B.1.371</td>\n",
       "      <td>US</td>\n",
       "    </tr>\n",
       "    <tr>\n",
       "      <th>440288</th>\n",
       "      <td>22</td>\n",
       "      <td>2020-11-18</td>\n",
       "      <td>B.1.2</td>\n",
       "      <td>30</td>\n",
       "    </tr>\n",
       "    <tr>\n",
       "      <th>737315</th>\n",
       "      <td>2</td>\n",
       "      <td>2020-08-10</td>\n",
       "      <td>B.1.1.1</td>\n",
       "      <td>49</td>\n",
       "    </tr>\n",
       "    <tr>\n",
       "      <th>927065</th>\n",
       "      <td>49</td>\n",
       "      <td>2022-10-20</td>\n",
       "      <td>BA.5.2.9</td>\n",
       "      <td>US</td>\n",
       "    </tr>\n",
       "  </tbody>\n",
       "</table>\n",
       "</div>"
      ],
      "text/plain": [
       "        weight       date     variant fips\n",
       "478533       1 2021-04-20     B.1.351   34\n",
       "352460       1 2022-12-08      BQ.1.2   24\n",
       "32992        1 2024-02-07    JN.1.4.6   04\n",
       "87518        1 2023-02-24    BQ.1.1.7   06\n",
       "676886       3 2021-08-28      AY.3.1   47\n",
       "115508       1 2023-09-06  XBB.1.16.3   06\n",
       "890510       8 2020-04-10     B.1.371   US\n",
       "440288      22 2020-11-18       B.1.2   30\n",
       "737315       2 2020-08-10     B.1.1.1   49\n",
       "927065      49 2022-10-20    BA.5.2.9   US"
      ]
     },
     "execution_count": 7,
     "metadata": {},
     "output_type": "execute_result"
    }
   ],
   "source": [
    "oi_df.sample(10)"
   ]
  },
  {
   "cell_type": "raw",
   "id": "10d0bc16-ddfc-49b3-a4f5-730f3c01f3de",
   "metadata": {},
   "source": [
    "# HHS region 3\n",
    "# 42: PA, 54: WV, 51: VA, 10: DE, 24: MD"
   ]
  },
  {
   "cell_type": "code",
   "execution_count": 8,
   "id": "488600a3-af43-4ca9-896c-29e039e7a339",
   "metadata": {},
   "outputs": [],
   "source": [
    "data = oi_df[oi_df.fips.isin([\"42\", \"54\", \"51\", \"10\", \"24\"])]\n",
    "data = data[[\"date\", \"variant\", \"weight\"]]"
   ]
  },
  {
   "cell_type": "code",
   "execution_count": 9,
   "id": "2080c6c9-ae39-446d-b075-98e9a95cdcd8",
   "metadata": {},
   "outputs": [],
   "source": [
    "ref_time = pd.to_datetime(\"2024-03-01\")"
   ]
  },
  {
   "cell_type": "code",
   "execution_count": 10,
   "id": "d976f446-6d36-4c30-8076-88559cb29554",
   "metadata": {},
   "outputs": [],
   "source": [
    "data = data[data.date < ref_time]"
   ]
  },
  {
   "cell_type": "code",
   "execution_count": 11,
   "id": "688a0901-2711-4b9e-8236-14553b96f406",
   "metadata": {},
   "outputs": [],
   "source": [
    "time_importance = get_time_importance(1.0, 0.1)\n",
    "distance_badness = get_distance_badness(1.0, 10.0)"
   ]
  },
  {
   "cell_type": "code",
   "execution_count": 12,
   "id": "125bfc71-e9fa-42c3-808c-accb32cda0d8",
   "metadata": {},
   "outputs": [],
   "source": [
    "tree = make_variant_tree(data, ref_time, time_importance)"
   ]
  },
  {
   "cell_type": "code",
   "execution_count": 13,
   "id": "38b2fac5-e647-4b4d-bee6-94babee6035d",
   "metadata": {},
   "outputs": [
    {
     "data": {
      "text/plain": [
       "(1896, 1897)"
      ]
     },
     "execution_count": 13,
     "metadata": {},
     "output_type": "execute_result"
    }
   ],
   "source": [
    "tree.number_of_edges(), tree.number_of_nodes()"
   ]
  },
  {
   "cell_type": "code",
   "execution_count": 14,
   "id": "ee8ba9ed-d1ce-4136-8227-9532df879555",
   "metadata": {},
   "outputs": [],
   "source": [
    "pruned_tree = prune_tree(tree)"
   ]
  },
  {
   "cell_type": "code",
   "execution_count": 15,
   "id": "814000b9-60c0-4154-b81a-61c5afaf40a2",
   "metadata": {},
   "outputs": [
    {
     "data": {
      "text/plain": [
       "(1815, 1816)"
      ]
     },
     "execution_count": 15,
     "metadata": {},
     "output_type": "execute_result"
    }
   ],
   "source": [
    "pruned_tree.number_of_edges(), pruned_tree.number_of_nodes()"
   ]
  },
  {
   "cell_type": "code",
   "execution_count": 16,
   "id": "34f7ec5c-2c23-4eef-a738-0b851f9d3b5b",
   "metadata": {},
   "outputs": [
    {
     "name": "stdout",
     "output_type": "stream",
     "text": [
      "Selected BA.5.2.60\n",
      "Selected BA.2.42\n",
      "Selected BA.1.10\n",
      "Selected BA.1.14.1\n",
      "Selected XBB.1.44.1\n",
      "Selected B.1.1\n",
      "Selected BA.5.2.4\n",
      "Selected BQ.1.1.10\n",
      "Selected BA.2.9.1\n",
      "Selected BA.5.1.4\n",
      "Selected BA.2.49\n",
      "Selected B.1.561\n",
      "Selected B.1.349\n",
      "Selected BF.7\n",
      "Selected BA.2.3.20\n",
      "Selected BA.2.36\n",
      "Selected BF.2\n",
      "Selected B.1.427\n",
      "Selected XBB.1.5.7\n",
      "CPU times: user 10.3 s, sys: 783 ms, total: 11.1 s\n",
      "Wall time: 16.6 s\n"
     ]
    }
   ],
   "source": [
    "%%time\n",
    "\n",
    "greedy_opt = optimize_greedy(20, pruned_tree, distance_badness, par=num_cpus)"
   ]
  },
  {
   "cell_type": "code",
   "execution_count": 17,
   "id": "8903dce3-468f-4901-b875-0b94b9aff054",
   "metadata": {},
   "outputs": [
    {
     "data": {
      "text/plain": [
       "1727142.1444598727"
      ]
     },
     "execution_count": 17,
     "metadata": {},
     "output_type": "execute_result"
    }
   ],
   "source": [
    "v_nia = make_nearest_included_ancestor(greedy_opt, tree, distance_badness)\n",
    "greedy_badness = sum(nia.badness for nia in v_nia.values())\n",
    "greedy_badness"
   ]
  },
  {
   "cell_type": "code",
   "execution_count": 18,
   "id": "0a2c3123-11fd-4ab4-bd3f-e5556dd79793",
   "metadata": {},
   "outputs": [
    {
     "name": "stdout",
     "output_type": "stream",
     "text": [
      "cur_size=2\n",
      "cur_size=3\n",
      "cur_size=4\n",
      "cur_size=5\n",
      "cur_size=6\n",
      "cur_size=7\n",
      "cur_size=8\n",
      "cur_size=9\n",
      "cur_size=10\n",
      "cur_size=11\n",
      "cur_size=12\n",
      "cur_size=13\n",
      "cur_size=14\n",
      "cur_size=15\n",
      "cur_size=16\n",
      "cur_size=17\n",
      "cur_size=18\n",
      "cur_size=19\n",
      "cur_size=20\n",
      "CPU times: user 13.5 s, sys: 1.19 s, total: 14.7 s\n",
      "Wall time: 1min 11s\n"
     ]
    }
   ],
   "source": [
    "%%time\n",
    "\n",
    "beam10_opt = optimize_beam_search(20, 10, pruned_tree, distance_badness, par=num_cpus)"
   ]
  },
  {
   "cell_type": "code",
   "execution_count": 19,
   "id": "197835e7-e50e-491c-b3f5-7be04005e9e6",
   "metadata": {},
   "outputs": [
    {
     "data": {
      "text/plain": [
       "4308.894213959181"
      ]
     },
     "execution_count": 19,
     "metadata": {},
     "output_type": "execute_result"
    }
   ],
   "source": [
    "v_nia = make_nearest_included_ancestor(beam10_opt, tree, distance_badness)\n",
    "beam10_badness = sum(nia.badness for nia in v_nia.values())\n",
    "beam10_badness"
   ]
  },
  {
   "cell_type": "code",
   "execution_count": 20,
   "id": "8e703350-1799-4374-972e-a8906da8f82d",
   "metadata": {},
   "outputs": [
    {
     "data": {
      "text/plain": [
       "frozenset({'BA.2',\n",
       "           'BQ.1',\n",
       "           'CH.1.1',\n",
       "           'EG.5.1',\n",
       "           'FL.1.5',\n",
       "           'GE.1.2.1',\n",
       "           'GJ.1.2',\n",
       "           'HV.1',\n",
       "           'JD.1.1',\n",
       "           'JN.1',\n",
       "           'JN.1.11.1',\n",
       "           'JN.1.4',\n",
       "           'JN.1.8.1',\n",
       "           'SARS-CoV-2',\n",
       "           'XBB',\n",
       "           'XBB.1',\n",
       "           'XBB.1.16',\n",
       "           'XBB.1.5.70',\n",
       "           'XBB.1.9.1',\n",
       "           'XBB.2.3'})"
      ]
     },
     "execution_count": 20,
     "metadata": {},
     "output_type": "execute_result"
    }
   ],
   "source": [
    "beam10_opt"
   ]
  },
  {
   "cell_type": "code",
   "execution_count": 21,
   "id": "2a2255dd-9304-437d-968e-a1cdbb7efca4",
   "metadata": {},
   "outputs": [
    {
     "name": "stdout",
     "output_type": "stream",
     "text": [
      "cur_size=2\n",
      "cur_size=3\n",
      "cur_size=4\n",
      "cur_size=5\n",
      "cur_size=6\n",
      "cur_size=7\n",
      "cur_size=8\n",
      "cur_size=9\n",
      "cur_size=10\n",
      "cur_size=11\n",
      "cur_size=12\n",
      "cur_size=13\n",
      "cur_size=14\n",
      "cur_size=15\n",
      "cur_size=16\n",
      "cur_size=17\n",
      "cur_size=18\n",
      "cur_size=19\n",
      "cur_size=20\n",
      "CPU times: user 17.1 s, sys: 1.29 s, total: 18.4 s\n",
      "Wall time: 2min 9s\n"
     ]
    }
   ],
   "source": [
    "%%time\n",
    "\n",
    "beam20_opt = optimize_beam_search(20, 20, pruned_tree, distance_badness, par=num_cpus)"
   ]
  },
  {
   "cell_type": "code",
   "execution_count": 22,
   "id": "38dd76f5-807f-4598-8ef6-ba4be3ee8a47",
   "metadata": {},
   "outputs": [
    {
     "data": {
      "text/plain": [
       "3934.973136476179"
      ]
     },
     "execution_count": 22,
     "metadata": {},
     "output_type": "execute_result"
    }
   ],
   "source": [
    "v_nia = make_nearest_included_ancestor(beam20_opt, tree, distance_badness)\n",
    "beam20_badness = sum(nia.badness for nia in v_nia.values())\n",
    "beam20_badness"
   ]
  },
  {
   "cell_type": "code",
   "execution_count": 23,
   "id": "e672ab05-7264-441d-a554-ab3070007d71",
   "metadata": {},
   "outputs": [
    {
     "data": {
      "text/plain": [
       "frozenset({'B.1.1.529',\n",
       "           'BA.2.86.1',\n",
       "           'BQ.1',\n",
       "           'CH.1.1',\n",
       "           'EG.5.1',\n",
       "           'FL.1.5',\n",
       "           'GE.1.2.1',\n",
       "           'GJ.1.2',\n",
       "           'HV.1',\n",
       "           'JD.1.1',\n",
       "           'JN.1',\n",
       "           'JN.1.11.1',\n",
       "           'JN.1.4',\n",
       "           'JN.1.8.1',\n",
       "           'SARS-CoV-2',\n",
       "           'XBB.1',\n",
       "           'XBB.1.16',\n",
       "           'XBB.1.5.70',\n",
       "           'XBB.1.9.1',\n",
       "           'XBB.2.3'})"
      ]
     },
     "execution_count": 23,
     "metadata": {},
     "output_type": "execute_result"
    }
   ],
   "source": [
    "beam20_opt"
   ]
  },
  {
   "cell_type": "code",
   "execution_count": 24,
   "id": "ea1fdea2-e438-4e71-8b6f-c847bad6c9f0",
   "metadata": {},
   "outputs": [
    {
     "name": "stdout",
     "output_type": "stream",
     "text": [
      "cur_size=2\n",
      "cur_size=3\n",
      "cur_size=4\n",
      "cur_size=5\n",
      "cur_size=6\n",
      "cur_size=7\n",
      "cur_size=8\n",
      "cur_size=9\n",
      "cur_size=10\n",
      "cur_size=11\n",
      "cur_size=12\n",
      "cur_size=13\n",
      "cur_size=14\n",
      "cur_size=15\n",
      "cur_size=16\n",
      "cur_size=17\n",
      "cur_size=18\n",
      "cur_size=19\n",
      "cur_size=20\n",
      "CPU times: user 21.4 s, sys: 1.66 s, total: 23.1 s\n",
      "Wall time: 3min 9s\n"
     ]
    }
   ],
   "source": [
    "%%time\n",
    "\n",
    "beam30_opt = optimize_beam_search(20, 30, pruned_tree, distance_badness, par=num_cpus)"
   ]
  },
  {
   "cell_type": "code",
   "execution_count": 25,
   "id": "fa0d4a32-804e-4f67-b5cd-e958bd12767b",
   "metadata": {},
   "outputs": [
    {
     "data": {
      "text/plain": [
       "3934.973136476179"
      ]
     },
     "execution_count": 25,
     "metadata": {},
     "output_type": "execute_result"
    }
   ],
   "source": [
    "v_nia = make_nearest_included_ancestor(beam30_opt, tree, distance_badness)\n",
    "beam30_badness = sum(nia.badness for nia in v_nia.values())\n",
    "beam30_badness"
   ]
  },
  {
   "cell_type": "code",
   "execution_count": 26,
   "id": "470dd784-5409-4abb-b254-e44e291e49b1",
   "metadata": {},
   "outputs": [
    {
     "data": {
      "text/plain": [
       "frozenset({'B.1.1.529',\n",
       "           'BA.2.86.1',\n",
       "           'BQ.1',\n",
       "           'CH.1.1',\n",
       "           'EG.5.1',\n",
       "           'FL.1.5',\n",
       "           'GE.1.2.1',\n",
       "           'GJ.1.2',\n",
       "           'HV.1',\n",
       "           'JD.1.1',\n",
       "           'JN.1',\n",
       "           'JN.1.11.1',\n",
       "           'JN.1.4',\n",
       "           'JN.1.8.1',\n",
       "           'SARS-CoV-2',\n",
       "           'XBB.1',\n",
       "           'XBB.1.16',\n",
       "           'XBB.1.5.70',\n",
       "           'XBB.1.9.1',\n",
       "           'XBB.2.3'})"
      ]
     },
     "execution_count": 26,
     "metadata": {},
     "output_type": "execute_result"
    }
   ],
   "source": [
    "beam30_opt"
   ]
  },
  {
   "cell_type": "raw",
   "id": "ec6bdb6e-58a2-4c15-b9ce-f0511594ab38",
   "metadata": {},
   "source": []
  }
 ],
 "metadata": {
  "kernelspec": {
   "display_name": "Python [conda env:hp11]",
   "language": "python",
   "name": "conda-env-hp11-py"
  },
  "language_info": {
   "codemirror_mode": {
    "name": "ipython",
    "version": 3
   },
   "file_extension": ".py",
   "mimetype": "text/x-python",
   "name": "python",
   "nbconvert_exporter": "python",
   "pygments_lexer": "ipython3",
   "version": "3.11.8"
  }
 },
 "nbformat": 4,
 "nbformat_minor": 5
}
