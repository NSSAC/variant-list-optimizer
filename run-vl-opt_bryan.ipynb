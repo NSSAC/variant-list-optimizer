{
 "cells": [
  {
   "cell_type": "markdown",
   "id": "83920937-d45d-493c-80a2-77bdaba0a84c",
   "metadata": {},
   "source": [
    "# Run Variant List Optimizer"
   ]
  },
  {
   "cell_type": "code",
   "execution_count": 1,
   "id": "a98219ee-7d3b-4506-a047-717767d0c32e",
   "metadata": {
    "tags": []
   },
   "outputs": [],
   "source": [
    "import sys\n",
    "\n",
    "import ray\n",
    "from ray.job_config import JobConfig\n",
    "from scipy.stats import zscore\n",
    "\n",
    "\n",
    "import pandas as pd"
   ]
  },
  {
   "cell_type": "code",
   "execution_count": 2,
   "id": "667247c7-c8e7-425f-97a5-d136627df698",
   "metadata": {
    "tags": []
   },
   "outputs": [],
   "source": [
    "num_cpus = 35 # usable cpus on BII nodes on rivanna"
   ]
  },
  {
   "cell_type": "code",
   "execution_count": 3,
   "id": "f5a41214-e889-44dd-8431-e81ab839e965",
   "metadata": {
    "tags": []
   },
   "outputs": [
    {
     "name": "stderr",
     "output_type": "stream",
     "text": [
      "2024-05-22 10:53:58,951\tINFO worker.py:1740 -- Started a local Ray instance. View the dashboard at \u001b[1m\u001b[32mhttp://127.0.0.1:8265 \u001b[39m\u001b[22m\n"
     ]
    },
    {
     "data": {
      "application/vnd.jupyter.widget-view+json": {
       "model_id": "6e33c69d48d14e219c4ce106e680e681",
       "version_major": 2,
       "version_minor": 0
      },
      "text/html": [
       "<div class=\"lm-Widget p-Widget lm-Panel p-Panel jp-Cell-outputWrapper\">\n",
       "    <div style=\"margin-left: 50px;display: flex;flex-direction: row;align-items: center\">\n",
       "        <div class=\"jp-RenderedHTMLCommon\" style=\"display: flex; flex-direction: row;\">\n",
       "  <svg viewBox=\"0 0 567 224\" fill=\"none\" xmlns=\"http://www.w3.org/2000/svg\" style=\"height: 3em;\">\n",
       "    <g clip-path=\"url(#clip0_4338_178347)\">\n",
       "        <path d=\"M341.29 165.561H355.29L330.13 129.051C345.63 123.991 354.21 112.051 354.21 94.2307C354.21 71.3707 338.72 58.1807 311.88 58.1807H271V165.561H283.27V131.661H311.8C314.25 131.661 316.71 131.501 319.01 131.351L341.25 165.561H341.29ZM283.29 119.851V70.0007H311.82C331.3 70.0007 342.34 78.2907 342.34 94.5507C342.34 111.271 331.34 119.861 311.82 119.861L283.29 119.851ZM451.4 138.411L463.4 165.561H476.74L428.74 58.1807H416L367.83 165.561H380.83L392.83 138.411H451.4ZM446.19 126.601H398L422 72.1407L446.24 126.601H446.19ZM526.11 128.741L566.91 58.1807H554.35L519.99 114.181L485.17 58.1807H472.44L514.01 129.181V165.541H526.13V128.741H526.11Z\" fill=\"var(--jp-ui-font-color0)\"/>\n",
       "        <path d=\"M82.35 104.44C84.0187 97.8827 87.8248 92.0678 93.1671 87.9146C98.5094 83.7614 105.083 81.5067 111.85 81.5067C118.617 81.5067 125.191 83.7614 130.533 87.9146C135.875 92.0678 139.681 97.8827 141.35 104.44H163.75C164.476 101.562 165.622 98.8057 167.15 96.2605L127.45 56.5605C121.071 60.3522 113.526 61.6823 106.235 60.3005C98.9443 58.9187 92.4094 54.9203 87.8602 49.0574C83.3109 43.1946 81.0609 35.8714 81.5332 28.4656C82.0056 21.0599 85.1679 14.0819 90.4252 8.8446C95.6824 3.60726 102.672 0.471508 110.08 0.0272655C117.487 -0.416977 124.802 1.86091 130.647 6.4324C136.493 11.0039 140.467 17.5539 141.821 24.8501C143.175 32.1463 141.816 39.6859 138 46.0505L177.69 85.7505C182.31 82.9877 187.58 81.4995 192.962 81.4375C198.345 81.3755 203.648 82.742 208.33 85.3976C213.012 88.0532 216.907 91.9029 219.616 96.5544C222.326 101.206 223.753 106.492 223.753 111.875C223.753 117.258 222.326 122.545 219.616 127.197C216.907 131.848 213.012 135.698 208.33 138.353C203.648 141.009 198.345 142.375 192.962 142.313C187.58 142.251 182.31 140.763 177.69 138L138 177.7C141.808 184.071 143.155 191.614 141.79 198.91C140.424 206.205 136.44 212.75 130.585 217.313C124.731 221.875 117.412 224.141 110.004 223.683C102.596 223.226 95.6103 220.077 90.3621 214.828C85.1139 209.58 81.9647 202.595 81.5072 195.187C81.0497 187.779 83.3154 180.459 87.878 174.605C92.4405 168.751 98.9853 164.766 106.281 163.401C113.576 162.035 121.119 163.383 127.49 167.19L167.19 127.49C165.664 124.941 164.518 122.182 163.79 119.3H141.39C139.721 125.858 135.915 131.673 130.573 135.826C125.231 139.98 118.657 142.234 111.89 142.234C105.123 142.234 98.5494 139.98 93.2071 135.826C87.8648 131.673 84.0587 125.858 82.39 119.3H60C58.1878 126.495 53.8086 132.78 47.6863 136.971C41.5641 141.163 34.1211 142.972 26.7579 142.059C19.3947 141.146 12.6191 137.574 7.70605 132.014C2.79302 126.454 0.0813599 119.29 0.0813599 111.87C0.0813599 104.451 2.79302 97.2871 7.70605 91.7272C12.6191 86.1673 19.3947 82.5947 26.7579 81.6817C34.1211 80.7686 41.5641 82.5781 47.6863 86.7696C53.8086 90.9611 58.1878 97.2456 60 104.44H82.35ZM100.86 204.32C103.407 206.868 106.759 208.453 110.345 208.806C113.93 209.159 117.527 208.258 120.522 206.256C123.517 204.254 125.725 201.276 126.771 197.828C127.816 194.38 127.633 190.677 126.253 187.349C124.874 184.021 122.383 181.274 119.205 179.577C116.027 177.88 112.359 177.337 108.826 178.042C105.293 178.746 102.113 180.654 99.8291 183.44C97.5451 186.226 96.2979 189.718 96.3 193.32C96.2985 195.364 96.7006 197.388 97.4831 199.275C98.2656 201.163 99.4132 202.877 100.86 204.32ZM204.32 122.88C206.868 120.333 208.453 116.981 208.806 113.396C209.159 109.811 208.258 106.214 206.256 103.219C204.254 100.223 201.275 98.0151 197.827 96.97C194.38 95.9249 190.676 96.1077 187.348 97.4873C184.02 98.8669 181.274 101.358 179.577 104.536C177.879 107.714 177.337 111.382 178.041 114.915C178.746 118.448 180.653 121.627 183.439 123.911C186.226 126.195 189.717 127.443 193.32 127.44C195.364 127.443 197.388 127.042 199.275 126.259C201.163 125.476 202.878 124.328 204.32 122.88ZM122.88 19.4205C120.333 16.8729 116.981 15.2876 113.395 14.9347C109.81 14.5817 106.213 15.483 103.218 17.4849C100.223 19.4868 98.0146 22.4654 96.9696 25.9131C95.9245 29.3608 96.1073 33.0642 97.4869 36.3922C98.8665 39.7202 101.358 42.4668 104.535 44.1639C107.713 45.861 111.381 46.4036 114.914 45.6992C118.447 44.9949 121.627 43.0871 123.911 40.301C126.195 37.515 127.442 34.0231 127.44 30.4205C127.44 28.3772 127.038 26.3539 126.255 24.4664C125.473 22.5788 124.326 20.8642 122.88 19.4205ZM19.42 100.86C16.8725 103.408 15.2872 106.76 14.9342 110.345C14.5813 113.93 15.4826 117.527 17.4844 120.522C19.4863 123.518 22.4649 125.726 25.9127 126.771C29.3604 127.816 33.0638 127.633 36.3918 126.254C39.7198 124.874 42.4664 122.383 44.1635 119.205C45.8606 116.027 46.4032 112.359 45.6988 108.826C44.9944 105.293 43.0866 102.114 40.3006 99.8296C37.5145 97.5455 34.0227 96.2983 30.42 96.3005C26.2938 96.3018 22.337 97.9421 19.42 100.86ZM100.86 100.86C98.3125 103.408 96.7272 106.76 96.3742 110.345C96.0213 113.93 96.9226 117.527 98.9244 120.522C100.926 123.518 103.905 125.726 107.353 126.771C110.8 127.816 114.504 127.633 117.832 126.254C121.16 124.874 123.906 122.383 125.604 119.205C127.301 116.027 127.843 112.359 127.139 108.826C126.434 105.293 124.527 102.114 121.741 99.8296C118.955 97.5455 115.463 96.2983 111.86 96.3005C109.817 96.299 107.793 96.701 105.905 97.4835C104.018 98.2661 102.303 99.4136 100.86 100.86Z\" fill=\"#00AEEF\"/>\n",
       "    </g>\n",
       "    <defs>\n",
       "        <clipPath id=\"clip0_4338_178347\">\n",
       "            <rect width=\"566.93\" height=\"223.75\" fill=\"white\"/>\n",
       "        </clipPath>\n",
       "    </defs>\n",
       "  </svg>\n",
       "</div>\n",
       "\n",
       "        <table class=\"jp-RenderedHTMLCommon\" style=\"border-collapse: collapse;color: var(--jp-ui-font-color1);font-size: var(--jp-ui-font-size1);\">\n",
       "    <tr>\n",
       "        <td style=\"text-align: left\"><b>Python version:</b></td>\n",
       "        <td style=\"text-align: left\"><b>3.11.4</b></td>\n",
       "    </tr>\n",
       "    <tr>\n",
       "        <td style=\"text-align: left\"><b>Ray version:</b></td>\n",
       "        <td style=\"text-align: left\"><b>2.11.0</b></td>\n",
       "    </tr>\n",
       "    <tr>\n",
       "    <td style=\"text-align: left\"><b>Dashboard:</b></td>\n",
       "    <td style=\"text-align: left\"><b><a href=\"http://127.0.0.1:8265\" target=\"_blank\">http://127.0.0.1:8265</a></b></td>\n",
       "</tr>\n",
       "\n",
       "</table>\n",
       "\n",
       "    </div>\n",
       "</div>\n"
      ],
      "text/plain": [
       "RayContext(dashboard_url='127.0.0.1:8265', python_version='3.11.4', ray_version='2.11.0', ray_commit='2eb4a8119f903f79b78c01eaa9db06c6c390051c')"
      ]
     },
     "execution_count": 3,
     "metadata": {},
     "output_type": "execute_result"
    }
   ],
   "source": [
    "code_dir = \"/project/bii_nssac/people/bl4zc/variant-list-optimizer\"\n",
    "\n",
    "sys.path.append(code_dir)\n",
    "ray.init(job_config=JobConfig(code_search_path=[code_dir]))"
   ]
  },
  {
   "cell_type": "code",
   "execution_count": 4,
   "id": "c09cf2cb-d75a-4c28-a160-dbc29b13e345",
   "metadata": {
    "tags": []
   },
   "outputs": [],
   "source": [
    "from variant_list_optimizer import *"
   ]
  },
  {
   "cell_type": "code",
   "execution_count": 5,
   "id": "1021ae36-e4a1-4f2c-9589-02084f2f05f8",
   "metadata": {
    "tags": []
   },
   "outputs": [],
   "source": [
    "oi_fname = \"/project/nssac_covid19/COVID-19_commons/products/external_data_collection/variants/outbreak_info_variants_states_long.csv\""
   ]
  },
  {
   "cell_type": "code",
   "execution_count": 6,
   "id": "27eb51e6-d1ab-4ee4-adac-50f6573576dc",
   "metadata": {
    "tags": []
   },
   "outputs": [],
   "source": [
    "usecols = [\"date\", \"lineage\", \"fips\", \"lineage_count\"]\n",
    "parse_dates = [\"date\"]\n",
    "\n",
    "oi_df = pd.read_csv(oi_fname, usecols=usecols, parse_dates=parse_dates, low_memory=False)\n",
    "oi_df = oi_df.rename(columns={\n",
    "    \"lineage\": \"variant\",\n",
    "    \"lineage_count\": \"weight\"\n",
    "})\n",
    "\n",
    "oi_df = oi_df.dropna(subset=[\"date\", \"variant\"])"
   ]
  },
  {
   "cell_type": "code",
   "execution_count": 7,
   "id": "9413b55f-182a-4ff8-ac52-a0dfbb1cf760",
   "metadata": {
    "tags": []
   },
   "outputs": [
    {
     "name": "stdout",
     "output_type": "stream",
     "text": [
      "Max date of this data is: 2024-05-13 00:00:00\n"
     ]
    },
    {
     "data": {
      "text/html": [
       "<div>\n",
       "<style scoped>\n",
       "    .dataframe tbody tr th:only-of-type {\n",
       "        vertical-align: middle;\n",
       "    }\n",
       "\n",
       "    .dataframe tbody tr th {\n",
       "        vertical-align: top;\n",
       "    }\n",
       "\n",
       "    .dataframe thead th {\n",
       "        text-align: right;\n",
       "    }\n",
       "</style>\n",
       "<table border=\"1\" class=\"dataframe\">\n",
       "  <thead>\n",
       "    <tr style=\"text-align: right;\">\n",
       "      <th></th>\n",
       "      <th>weight</th>\n",
       "      <th>date</th>\n",
       "      <th>variant</th>\n",
       "      <th>fips</th>\n",
       "    </tr>\n",
       "  </thead>\n",
       "  <tbody>\n",
       "    <tr>\n",
       "      <th>693956</th>\n",
       "      <td>1</td>\n",
       "      <td>2023-07-13</td>\n",
       "      <td>XBB.1.5</td>\n",
       "      <td>47</td>\n",
       "    </tr>\n",
       "    <tr>\n",
       "      <th>1006330</th>\n",
       "      <td>1</td>\n",
       "      <td>2024-01-12</td>\n",
       "      <td>JN.1.1.1</td>\n",
       "      <td>US</td>\n",
       "    </tr>\n",
       "    <tr>\n",
       "      <th>44269</th>\n",
       "      <td>15</td>\n",
       "      <td>2021-12-21</td>\n",
       "      <td>AY.117</td>\n",
       "      <td>06</td>\n",
       "    </tr>\n",
       "    <tr>\n",
       "      <th>785553</th>\n",
       "      <td>1</td>\n",
       "      <td>2023-01-17</td>\n",
       "      <td>CH.1.1.1</td>\n",
       "      <td>51</td>\n",
       "    </tr>\n",
       "    <tr>\n",
       "      <th>546810</th>\n",
       "      <td>9</td>\n",
       "      <td>2022-12-20</td>\n",
       "      <td>BQ.1.3.2</td>\n",
       "      <td>36</td>\n",
       "    </tr>\n",
       "    <tr>\n",
       "      <th>403173</th>\n",
       "      <td>1</td>\n",
       "      <td>2021-09-25</td>\n",
       "      <td>AY.122</td>\n",
       "      <td>27</td>\n",
       "    </tr>\n",
       "    <tr>\n",
       "      <th>759210</th>\n",
       "      <td>1</td>\n",
       "      <td>2023-10-16</td>\n",
       "      <td>GJ.1.2.4</td>\n",
       "      <td>49</td>\n",
       "    </tr>\n",
       "    <tr>\n",
       "      <th>519953</th>\n",
       "      <td>7</td>\n",
       "      <td>2021-09-22</td>\n",
       "      <td>AY.39.1</td>\n",
       "      <td>36</td>\n",
       "    </tr>\n",
       "    <tr>\n",
       "      <th>708661</th>\n",
       "      <td>15</td>\n",
       "      <td>2021-12-29</td>\n",
       "      <td>BA.1.18</td>\n",
       "      <td>48</td>\n",
       "    </tr>\n",
       "    <tr>\n",
       "      <th>941874</th>\n",
       "      <td>1</td>\n",
       "      <td>2022-07-01</td>\n",
       "      <td>BF.12</td>\n",
       "      <td>US</td>\n",
       "    </tr>\n",
       "  </tbody>\n",
       "</table>\n",
       "</div>"
      ],
      "text/plain": [
       "         weight       date   variant fips\n",
       "693956        1 2023-07-13   XBB.1.5   47\n",
       "1006330       1 2024-01-12  JN.1.1.1   US\n",
       "44269        15 2021-12-21    AY.117   06\n",
       "785553        1 2023-01-17  CH.1.1.1   51\n",
       "546810        9 2022-12-20  BQ.1.3.2   36\n",
       "403173        1 2021-09-25    AY.122   27\n",
       "759210        1 2023-10-16  GJ.1.2.4   49\n",
       "519953        7 2021-09-22   AY.39.1   36\n",
       "708661       15 2021-12-29   BA.1.18   48\n",
       "941874        1 2022-07-01     BF.12   US"
      ]
     },
     "execution_count": 7,
     "metadata": {},
     "output_type": "execute_result"
    }
   ],
   "source": [
    "print(\"Max date of this data is:\",oi_df.date.max())\n",
    "oi_df.sample(10)"
   ]
  },
  {
   "cell_type": "code",
   "execution_count": 8,
   "id": "2be7a0fb-f5e8-4aee-922c-bb11a73fd71f",
   "metadata": {
    "tags": []
   },
   "outputs": [],
   "source": [
    "def find_the_list(data,date,size):\n",
    "    \n",
    "    print(\"Finding list:\",date,size)\n",
    "    ref_time = pd.to_datetime(date)\n",
    "    data = data[data.date < ref_time]\n",
    "    \n",
    "    time_importance = get_time_importance(1.0, 0.1)\n",
    "    distance_badness = get_distance_badness(1.0, 10.0)\n",
    "    \n",
    "    tree = make_variant_tree(data, ref_time, time_importance)\n",
    "    pruned_tree = prune_tree(tree)\n",
    "\n",
    "    print(date,\"finding list\",size,\"on a tree size\",pruned_tree.number_of_nodes())\n",
    "    \n",
    "    beam_opt = optimize_beam_search(size, size, pruned_tree, distance_badness, par=num_cpus)\n",
    "    \n",
    "    v_nia = make_nearest_included_ancestor(beam_opt, tree, distance_badness)\n",
    "    beam_badness = sum(nia.badness for nia in v_nia.values())\n",
    "    print(date,\"Badness:\",beam_badness)\n",
    "    \n",
    "    df = pd.DataFrame(list(beam_opt),columns=[date])\n",
    "    return df\n",
    "    "
   ]
  },
  {
   "cell_type": "raw",
   "id": "10d0bc16-ddfc-49b3-a4f5-730f3c01f3de",
   "metadata": {},
   "source": [
    "# HHS region 3\n",
    "# 42: PA, 54: WV, 51: VA, 10: DE, 24: MD"
   ]
  },
  {
   "cell_type": "code",
   "execution_count": 9,
   "id": "488600a3-af43-4ca9-896c-29e039e7a339",
   "metadata": {
    "tags": []
   },
   "outputs": [],
   "source": [
    "data = oi_df[oi_df.fips.isin([\"42\", \"54\", \"51\", \"10\", \"24\"])]\n",
    "counts_data = data[[\"date\", \"variant\", \"weight\"]]"
   ]
  },
  {
   "cell_type": "code",
   "execution_count": 10,
   "id": "617c75c6-2955-427c-b5eb-e98daa6870a2",
   "metadata": {
    "tags": []
   },
   "outputs": [],
   "source": [
    "## Sum all samples across states\n",
    "data = data.groupby(['date','variant']).weight.sum().reset_index()"
   ]
  },
  {
   "cell_type": "code",
   "execution_count": 11,
   "id": "3ce334ea-244c-4aee-b8e7-5190862ff858",
   "metadata": {
    "tags": []
   },
   "outputs": [
    {
     "data": {
      "text/plain": [
       "(45907, 3)"
      ]
     },
     "execution_count": 11,
     "metadata": {},
     "output_type": "execute_result"
    }
   ],
   "source": [
    "data.shape"
   ]
  },
  {
   "cell_type": "code",
   "execution_count": 12,
   "id": "745dfa92-2bfe-442f-9a41-c9bb1b85eb27",
   "metadata": {
    "tags": []
   },
   "outputs": [
    {
     "data": {
      "text/html": [
       "<div>\n",
       "<style scoped>\n",
       "    .dataframe tbody tr th:only-of-type {\n",
       "        vertical-align: middle;\n",
       "    }\n",
       "\n",
       "    .dataframe tbody tr th {\n",
       "        vertical-align: top;\n",
       "    }\n",
       "\n",
       "    .dataframe thead th {\n",
       "        text-align: right;\n",
       "    }\n",
       "</style>\n",
       "<table border=\"1\" class=\"dataframe\">\n",
       "  <thead>\n",
       "    <tr style=\"text-align: right;\">\n",
       "      <th></th>\n",
       "      <th>date</th>\n",
       "      <th>variant</th>\n",
       "      <th>weight</th>\n",
       "    </tr>\n",
       "  </thead>\n",
       "  <tbody>\n",
       "    <tr>\n",
       "      <th>35472</th>\n",
       "      <td>2023-02-18</td>\n",
       "      <td>XBB.1.5.10</td>\n",
       "      <td>1</td>\n",
       "    </tr>\n",
       "    <tr>\n",
       "      <th>41549</th>\n",
       "      <td>2023-10-05</td>\n",
       "      <td>XBB.1.16.11</td>\n",
       "      <td>2</td>\n",
       "    </tr>\n",
       "    <tr>\n",
       "      <th>41205</th>\n",
       "      <td>2023-09-26</td>\n",
       "      <td>XCH.1</td>\n",
       "      <td>1</td>\n",
       "    </tr>\n",
       "    <tr>\n",
       "      <th>36232</th>\n",
       "      <td>2023-03-12</td>\n",
       "      <td>XBB.1.5.17</td>\n",
       "      <td>1</td>\n",
       "    </tr>\n",
       "    <tr>\n",
       "      <th>14498</th>\n",
       "      <td>2022-01-06</td>\n",
       "      <td>BA.1.22</td>\n",
       "      <td>2</td>\n",
       "    </tr>\n",
       "    <tr>\n",
       "      <th>32111</th>\n",
       "      <td>2022-12-27</td>\n",
       "      <td>XBB.1.5.52</td>\n",
       "      <td>2</td>\n",
       "    </tr>\n",
       "    <tr>\n",
       "      <th>12344</th>\n",
       "      <td>2021-11-12</td>\n",
       "      <td>AY.34</td>\n",
       "      <td>3</td>\n",
       "    </tr>\n",
       "    <tr>\n",
       "      <th>22480</th>\n",
       "      <td>2022-08-18</td>\n",
       "      <td>BA.4.1.8</td>\n",
       "      <td>1</td>\n",
       "    </tr>\n",
       "    <tr>\n",
       "      <th>36240</th>\n",
       "      <td>2023-03-13</td>\n",
       "      <td>B.1.1</td>\n",
       "      <td>1</td>\n",
       "    </tr>\n",
       "    <tr>\n",
       "      <th>32005</th>\n",
       "      <td>2022-12-26</td>\n",
       "      <td>EE.1</td>\n",
       "      <td>4</td>\n",
       "    </tr>\n",
       "  </tbody>\n",
       "</table>\n",
       "</div>"
      ],
      "text/plain": [
       "            date      variant  weight\n",
       "35472 2023-02-18   XBB.1.5.10       1\n",
       "41549 2023-10-05  XBB.1.16.11       2\n",
       "41205 2023-09-26        XCH.1       1\n",
       "36232 2023-03-12   XBB.1.5.17       1\n",
       "14498 2022-01-06      BA.1.22       2\n",
       "32111 2022-12-27   XBB.1.5.52       2\n",
       "12344 2021-11-12        AY.34       3\n",
       "22480 2022-08-18     BA.4.1.8       1\n",
       "36240 2023-03-13        B.1.1       1\n",
       "32005 2022-12-26         EE.1       4"
      ]
     },
     "execution_count": 12,
     "metadata": {},
     "output_type": "execute_result"
    }
   ],
   "source": [
    "data.sample(10)"
   ]
  },
  {
   "cell_type": "code",
   "execution_count": 13,
   "id": "b7080a7c-4509-4ff2-a1e5-3d1dbf1cf73c",
   "metadata": {
    "tags": []
   },
   "outputs": [
    {
     "data": {
      "text/html": [
       "<div>\n",
       "<style scoped>\n",
       "    .dataframe tbody tr th:only-of-type {\n",
       "        vertical-align: middle;\n",
       "    }\n",
       "\n",
       "    .dataframe tbody tr th {\n",
       "        vertical-align: top;\n",
       "    }\n",
       "\n",
       "    .dataframe thead th {\n",
       "        text-align: right;\n",
       "    }\n",
       "</style>\n",
       "<table border=\"1\" class=\"dataframe\">\n",
       "  <thead>\n",
       "    <tr style=\"text-align: right;\">\n",
       "      <th></th>\n",
       "      <th>date</th>\n",
       "      <th>variant</th>\n",
       "      <th>weight</th>\n",
       "    </tr>\n",
       "  </thead>\n",
       "  <tbody>\n",
       "    <tr>\n",
       "      <th>224770</th>\n",
       "      <td>2023-01-15</td>\n",
       "      <td>FD.4</td>\n",
       "      <td>-1.0</td>\n",
       "    </tr>\n",
       "    <tr>\n",
       "      <th>31119</th>\n",
       "      <td>2022-01-23</td>\n",
       "      <td>B.1</td>\n",
       "      <td>-2.0</td>\n",
       "    </tr>\n",
       "    <tr>\n",
       "      <th>369763</th>\n",
       "      <td>2023-04-16</td>\n",
       "      <td>XBB.1.5.7</td>\n",
       "      <td>3.0</td>\n",
       "    </tr>\n",
       "    <tr>\n",
       "      <th>366010</th>\n",
       "      <td>2023-01-15</td>\n",
       "      <td>XBB.1.5.52</td>\n",
       "      <td>6.0</td>\n",
       "    </tr>\n",
       "    <tr>\n",
       "      <th>277580</th>\n",
       "      <td>2023-03-26</td>\n",
       "      <td>HJ.1</td>\n",
       "      <td>-2.0</td>\n",
       "    </tr>\n",
       "    <tr>\n",
       "      <th>332921</th>\n",
       "      <td>2021-05-02</td>\n",
       "      <td>P.3</td>\n",
       "      <td>1.0</td>\n",
       "    </tr>\n",
       "    <tr>\n",
       "      <th>35025</th>\n",
       "      <td>2021-01-10</td>\n",
       "      <td>B.1.1.265</td>\n",
       "      <td>15.0</td>\n",
       "    </tr>\n",
       "    <tr>\n",
       "      <th>110803</th>\n",
       "      <td>2022-11-27</td>\n",
       "      <td>BA.5.2.23</td>\n",
       "      <td>3.0</td>\n",
       "    </tr>\n",
       "    <tr>\n",
       "      <th>322053</th>\n",
       "      <td>2023-11-12</td>\n",
       "      <td>JR.1.1</td>\n",
       "      <td>5.0</td>\n",
       "    </tr>\n",
       "    <tr>\n",
       "      <th>46451</th>\n",
       "      <td>2020-10-04</td>\n",
       "      <td>B.1.311</td>\n",
       "      <td>-2.0</td>\n",
       "    </tr>\n",
       "  </tbody>\n",
       "</table>\n",
       "</div>"
      ],
      "text/plain": [
       "             date     variant  weight\n",
       "224770 2023-01-15        FD.4    -1.0\n",
       "31119  2022-01-23         B.1    -2.0\n",
       "369763 2023-04-16   XBB.1.5.7     3.0\n",
       "366010 2023-01-15  XBB.1.5.52     6.0\n",
       "277580 2023-03-26        HJ.1    -2.0\n",
       "332921 2021-05-02         P.3     1.0\n",
       "35025  2021-01-10   B.1.1.265    15.0\n",
       "110803 2022-11-27   BA.5.2.23     3.0\n",
       "322053 2023-11-12      JR.1.1     5.0\n",
       "46451  2020-10-04     B.1.311    -2.0"
      ]
     },
     "execution_count": 13,
     "metadata": {},
     "output_type": "execute_result"
    }
   ],
   "source": [
    "## calculate a the slope difference\n",
    "diff_df = data.pivot(columns = 'variant', index='date', values = 'weight')\n",
    "## this takes a 3 week rolling sum\n",
    "diff_df = diff_df.resample('W').sum().rolling(3).sum().diff(2)\n",
    "df = diff_df.reset_index().melt(id_vars='date',value_name = 'weight')\n",
    "df.dropna(inplace = True)\n",
    "two_week_diff = df\n",
    "two_week_diff[two_week_diff.weight != 0].sample(10)"
   ]
  },
  {
   "cell_type": "code",
   "execution_count": 23,
   "id": "e3239e44-3fe8-4d10-b822-65537cde70e2",
   "metadata": {
    "tags": []
   },
   "outputs": [
    {
     "data": {
      "text/plain": [
       "<Axes: >"
      ]
     },
     "execution_count": 23,
     "metadata": {},
     "output_type": "execute_result"
    },
    {
     "data": {
      "image/png": "[encoded data removed]",
      "text/plain": [
       "<Figure size 640x480 with 1 Axes>"
      ]
     },
     "metadata": {},
     "output_type": "display_data"
    }
   ],
   "source": [
    "two_week_diff['weight_zscore'] = (two_week_diff['weight'] - two_week_diff['weight'].mean()) / two_week_diff['weight'].std()\n",
    "two_week_diff['weight_zscore'].hist(bins=25)"
   ]
  },
  {
   "cell_type": "code",
   "execution_count": 60,
   "id": "be685ef8-aa2a-4130-8028-7493288a727e",
   "metadata": {
    "tags": []
   },
   "outputs": [
    {
     "data": {
      "text/html": [
       "<div>\n",
       "<style scoped>\n",
       "    .dataframe tbody tr th:only-of-type {\n",
       "        vertical-align: middle;\n",
       "    }\n",
       "\n",
       "    .dataframe tbody tr th {\n",
       "        vertical-align: top;\n",
       "    }\n",
       "\n",
       "    .dataframe thead th {\n",
       "        text-align: right;\n",
       "    }\n",
       "</style>\n",
       "<table border=\"1\" class=\"dataframe\">\n",
       "  <thead>\n",
       "    <tr style=\"text-align: right;\">\n",
       "      <th></th>\n",
       "      <th>weight</th>\n",
       "      <th>date</th>\n",
       "      <th>variant</th>\n",
       "      <th>fips</th>\n",
       "    </tr>\n",
       "  </thead>\n",
       "  <tbody>\n",
       "    <tr>\n",
       "      <th>172813</th>\n",
       "      <td>1</td>\n",
       "      <td>2020-03-19</td>\n",
       "      <td>A</td>\n",
       "      <td>10</td>\n",
       "    </tr>\n",
       "    <tr>\n",
       "      <th>172814</th>\n",
       "      <td>1</td>\n",
       "      <td>2020-03-30</td>\n",
       "      <td>A</td>\n",
       "      <td>10</td>\n",
       "    </tr>\n",
       "    <tr>\n",
       "      <th>172815</th>\n",
       "      <td>1</td>\n",
       "      <td>2020-03-20</td>\n",
       "      <td>A.1</td>\n",
       "      <td>10</td>\n",
       "    </tr>\n",
       "    <tr>\n",
       "      <th>172816</th>\n",
       "      <td>1</td>\n",
       "      <td>2021-04-28</td>\n",
       "      <td>A.2.5</td>\n",
       "      <td>10</td>\n",
       "    </tr>\n",
       "    <tr>\n",
       "      <th>172817</th>\n",
       "      <td>1</td>\n",
       "      <td>2021-03-23</td>\n",
       "      <td>A.2.5.1</td>\n",
       "      <td>10</td>\n",
       "    </tr>\n",
       "    <tr>\n",
       "      <th>...</th>\n",
       "      <td>...</td>\n",
       "      <td>...</td>\n",
       "      <td>...</td>\n",
       "      <td>...</td>\n",
       "    </tr>\n",
       "    <tr>\n",
       "      <th>821414</th>\n",
       "      <td>1</td>\n",
       "      <td>2022-05-09</td>\n",
       "      <td>XY</td>\n",
       "      <td>54</td>\n",
       "    </tr>\n",
       "    <tr>\n",
       "      <th>821415</th>\n",
       "      <td>1</td>\n",
       "      <td>2022-05-13</td>\n",
       "      <td>XY</td>\n",
       "      <td>54</td>\n",
       "    </tr>\n",
       "    <tr>\n",
       "      <th>821416</th>\n",
       "      <td>1</td>\n",
       "      <td>2022-05-24</td>\n",
       "      <td>XY</td>\n",
       "      <td>54</td>\n",
       "    </tr>\n",
       "    <tr>\n",
       "      <th>821417</th>\n",
       "      <td>1</td>\n",
       "      <td>2022-06-06</td>\n",
       "      <td>XY</td>\n",
       "      <td>54</td>\n",
       "    </tr>\n",
       "    <tr>\n",
       "      <th>821418</th>\n",
       "      <td>1</td>\n",
       "      <td>2022-06-16</td>\n",
       "      <td>XY</td>\n",
       "      <td>54</td>\n",
       "    </tr>\n",
       "  </tbody>\n",
       "</table>\n",
       "<p>82568 rows × 4 columns</p>\n",
       "</div>"
      ],
      "text/plain": [
       "        weight       date  variant fips\n",
       "172813       1 2020-03-19        A   10\n",
       "172814       1 2020-03-30        A   10\n",
       "172815       1 2020-03-20      A.1   10\n",
       "172816       1 2021-04-28    A.2.5   10\n",
       "172817       1 2021-03-23  A.2.5.1   10\n",
       "...        ...        ...      ...  ...\n",
       "821414       1 2022-05-09       XY   54\n",
       "821415       1 2022-05-13       XY   54\n",
       "821416       1 2022-05-24       XY   54\n",
       "821417       1 2022-06-06       XY   54\n",
       "821418       1 2022-06-16       XY   54\n",
       "\n",
       "[82568 rows x 4 columns]"
      ]
     },
     "execution_count": 60,
     "metadata": {},
     "output_type": "execute_result"
    }
   ],
   "source": [
    "#data = df"
   ]
  },
  {
   "cell_type": "markdown",
   "id": "a70ad4ec-03f6-48af-999e-a93ae4d40f8e",
   "metadata": {},
   "source": [
    "## Loop over dates to calculate lists"
   ]
  },
  {
   "cell_type": "code",
   "execution_count": null,
   "id": "d0533944-3f2d-4993-bbe6-bf1635eb408f",
   "metadata": {
    "tags": []
   },
   "outputs": [
    {
     "name": "stdout",
     "output_type": "stream",
     "text": [
      "Finding list: 2021-12-01 15\n",
      "2021-12-01 finding list 15 on a tree size 94\n",
      "cur_size=2\n",
      "cur_size=3\n",
      "cur_size=4\n",
      "cur_size=5\n",
      "cur_size=6\n",
      "cur_size=7\n",
      "cur_size=8\n",
      "cur_size=9\n",
      "cur_size=10\n",
      "cur_size=11\n",
      "cur_size=12\n",
      "cur_size=13\n",
      "cur_size=14\n",
      "cur_size=15\n",
      "2021-12-01 Badness: -403318.7496542954\n",
      "Finding list: 2021-12-15 15\n",
      "2021-12-15 finding list 15 on a tree size 104\n",
      "cur_size=2\n",
      "cur_size=3\n",
      "cur_size=4\n",
      "cur_size=5\n",
      "cur_size=6\n",
      "cur_size=7\n",
      "cur_size=8\n",
      "cur_size=9\n",
      "cur_size=10\n",
      "cur_size=11\n",
      "cur_size=12\n",
      "cur_size=13\n",
      "cur_size=14\n",
      "cur_size=15\n",
      "2021-12-15 Badness: -300274.08197907486\n",
      "Finding list: 2021-12-31 15\n"
     ]
    }
   ],
   "source": [
    "## Dates of interest\n",
    "dates_to_calculate = [\"2021-12-01\",\"2021-12-15\",\"2021-12-31\",\"2022-04-23\",\"2022-12-03\"]\n",
    "\n",
    "## prepped dataframe to use for the calculation\n",
    "data = two_week_diff\n",
    "\n",
    "\n",
    "for date in dates_to_calculate:\n",
    "    l = find_the_list(data,date,15)\n",
    "    if date == dates_to_calculate[0]:\n",
    "        lists = l\n",
    "    else:\n",
    "        lists = pd.concat([lists,l],axis=1)\n",
    "    "
   ]
  },
  {
   "cell_type": "code",
   "execution_count": 106,
   "id": "3fdb197d-c2e2-45ec-9cd9-1d8df2bffcb8",
   "metadata": {
    "tags": []
   },
   "outputs": [
    {
     "data": {
      "text/html": [
       "<div>\n",
       "<style scoped>\n",
       "    .dataframe tbody tr th:only-of-type {\n",
       "        vertical-align: middle;\n",
       "    }\n",
       "\n",
       "    .dataframe tbody tr th {\n",
       "        vertical-align: top;\n",
       "    }\n",
       "\n",
       "    .dataframe thead th {\n",
       "        text-align: right;\n",
       "    }\n",
       "</style>\n",
       "<table border=\"1\" class=\"dataframe\">\n",
       "  <thead>\n",
       "    <tr style=\"text-align: right;\">\n",
       "      <th></th>\n",
       "      <th>2021-12-01</th>\n",
       "      <th>2021-12-15</th>\n",
       "      <th>2021-12-31</th>\n",
       "      <th>2022-04-23</th>\n",
       "      <th>2022-12-03</th>\n",
       "    </tr>\n",
       "  </thead>\n",
       "  <tbody>\n",
       "    <tr>\n",
       "      <th>0</th>\n",
       "      <td>AY.120</td>\n",
       "      <td>AY.120</td>\n",
       "      <td>AY.34.1</td>\n",
       "      <td>BA.2.23</td>\n",
       "      <td>BF.7</td>\n",
       "    </tr>\n",
       "    <tr>\n",
       "      <th>1</th>\n",
       "      <td>AY.121</td>\n",
       "      <td>AY.121</td>\n",
       "      <td>BA.1.15</td>\n",
       "      <td>SARS-CoV-2</td>\n",
       "      <td>DJ.1.1.1</td>\n",
       "    </tr>\n",
       "    <tr>\n",
       "      <th>2</th>\n",
       "      <td>AY.103</td>\n",
       "      <td>AY.103</td>\n",
       "      <td>AY.103</td>\n",
       "      <td>BA.2</td>\n",
       "      <td>BE.4.2</td>\n",
       "    </tr>\n",
       "    <tr>\n",
       "      <th>3</th>\n",
       "      <td>AY.43</td>\n",
       "      <td>AY.43</td>\n",
       "      <td>AY.4.5</td>\n",
       "      <td>BA.2.37</td>\n",
       "      <td>SARS-CoV-2</td>\n",
       "    </tr>\n",
       "    <tr>\n",
       "      <th>4</th>\n",
       "      <td>AY.39</td>\n",
       "      <td>SARS-CoV-2</td>\n",
       "      <td>SARS-CoV-2</td>\n",
       "      <td>BA.2.7</td>\n",
       "      <td>BA.5.2.34</td>\n",
       "    </tr>\n",
       "    <tr>\n",
       "      <th>5</th>\n",
       "      <td>SARS-CoV-2</td>\n",
       "      <td>AY.39</td>\n",
       "      <td>BA.1.18</td>\n",
       "      <td>BA.2.12.1</td>\n",
       "      <td>BA.5.2.24</td>\n",
       "    </tr>\n",
       "    <tr>\n",
       "      <th>6</th>\n",
       "      <td>AY.34</td>\n",
       "      <td>AY.34</td>\n",
       "      <td>AY.46.4</td>\n",
       "      <td>BA.1.1.4</td>\n",
       "      <td>CQ.2</td>\n",
       "    </tr>\n",
       "    <tr>\n",
       "      <th>7</th>\n",
       "      <td>BA.1</td>\n",
       "      <td>BA.1</td>\n",
       "      <td>AY.4.2</td>\n",
       "      <td>BA.2.9</td>\n",
       "      <td>BE.1.2.1</td>\n",
       "    </tr>\n",
       "    <tr>\n",
       "      <th>8</th>\n",
       "      <td>AY.3.3</td>\n",
       "      <td>AY.100</td>\n",
       "      <td>BA.1</td>\n",
       "      <td>BA.2.18</td>\n",
       "      <td>BQ.1</td>\n",
       "    </tr>\n",
       "    <tr>\n",
       "      <th>9</th>\n",
       "      <td>AY.4</td>\n",
       "      <td>AY.4</td>\n",
       "      <td>AY.39.1</td>\n",
       "      <td>BA.2.3</td>\n",
       "      <td>BA.5.2.6</td>\n",
       "    </tr>\n",
       "    <tr>\n",
       "      <th>10</th>\n",
       "      <td>AY.117</td>\n",
       "      <td>AY.44</td>\n",
       "      <td>AY.100</td>\n",
       "      <td>BA.4.1</td>\n",
       "      <td>CL.1</td>\n",
       "    </tr>\n",
       "    <tr>\n",
       "      <th>11</th>\n",
       "      <td>AY.119</td>\n",
       "      <td>AY.98.1</td>\n",
       "      <td>BA.1.1</td>\n",
       "      <td>BA.2.10</td>\n",
       "      <td>BA.5.1.27</td>\n",
       "    </tr>\n",
       "    <tr>\n",
       "      <th>12</th>\n",
       "      <td>AY.100</td>\n",
       "      <td>AY.46</td>\n",
       "      <td>AY.3.3</td>\n",
       "      <td>BA.2.26</td>\n",
       "      <td>BA.2.3</td>\n",
       "    </tr>\n",
       "    <tr>\n",
       "      <th>13</th>\n",
       "      <td>AY.46</td>\n",
       "      <td>AY.3.3</td>\n",
       "      <td>AY.119.2</td>\n",
       "      <td>BA.2.3.17</td>\n",
       "      <td>BA.2.75</td>\n",
       "    </tr>\n",
       "    <tr>\n",
       "      <th>14</th>\n",
       "      <td>AY.20.1</td>\n",
       "      <td>AY.119.2</td>\n",
       "      <td>BA.1.17</td>\n",
       "      <td>BA.1.1.7</td>\n",
       "      <td>CR.1.1</td>\n",
       "    </tr>\n",
       "  </tbody>\n",
       "</table>\n",
       "</div>"
      ],
      "text/plain": [
       "    2021-12-01  2021-12-15  2021-12-31  2022-04-23  2022-12-03\n",
       "0       AY.120      AY.120     AY.34.1     BA.2.23        BF.7\n",
       "1       AY.121      AY.121     BA.1.15  SARS-CoV-2    DJ.1.1.1\n",
       "2       AY.103      AY.103      AY.103        BA.2      BE.4.2\n",
       "3        AY.43       AY.43      AY.4.5     BA.2.37  SARS-CoV-2\n",
       "4        AY.39  SARS-CoV-2  SARS-CoV-2      BA.2.7   BA.5.2.34\n",
       "5   SARS-CoV-2       AY.39     BA.1.18   BA.2.12.1   BA.5.2.24\n",
       "6        AY.34       AY.34     AY.46.4    BA.1.1.4        CQ.2\n",
       "7         BA.1        BA.1      AY.4.2      BA.2.9    BE.1.2.1\n",
       "8       AY.3.3      AY.100        BA.1     BA.2.18        BQ.1\n",
       "9         AY.4        AY.4     AY.39.1      BA.2.3    BA.5.2.6\n",
       "10      AY.117       AY.44      AY.100      BA.4.1        CL.1\n",
       "11      AY.119     AY.98.1      BA.1.1     BA.2.10   BA.5.1.27\n",
       "12      AY.100       AY.46      AY.3.3     BA.2.26      BA.2.3\n",
       "13       AY.46      AY.3.3    AY.119.2   BA.2.3.17     BA.2.75\n",
       "14     AY.20.1    AY.119.2     BA.1.17    BA.1.1.7      CR.1.1"
      ]
     },
     "execution_count": 106,
     "metadata": {},
     "output_type": "execute_result"
    }
   ],
   "source": [
    "lists"
   ]
  },
  {
   "cell_type": "code",
   "execution_count": 70,
   "id": "6a0b5099-77f2-48d2-bed2-1c165bf7213a",
   "metadata": {
    "tags": []
   },
   "outputs": [
    {
     "data": {
      "text/html": [
       "<div>\n",
       "<style scoped>\n",
       "    .dataframe tbody tr th:only-of-type {\n",
       "        vertical-align: middle;\n",
       "    }\n",
       "\n",
       "    .dataframe tbody tr th {\n",
       "        vertical-align: top;\n",
       "    }\n",
       "\n",
       "    .dataframe thead th {\n",
       "        text-align: right;\n",
       "    }\n",
       "</style>\n",
       "<table border=\"1\" class=\"dataframe\">\n",
       "  <thead>\n",
       "    <tr style=\"text-align: right;\">\n",
       "      <th></th>\n",
       "      <th>2021-12-01</th>\n",
       "      <th>2021-12-15</th>\n",
       "      <th>2021-12-31</th>\n",
       "      <th>2022-04-23</th>\n",
       "      <th>2022-12-03</th>\n",
       "    </tr>\n",
       "  </thead>\n",
       "  <tbody>\n",
       "    <tr>\n",
       "      <th>0</th>\n",
       "      <td>AY.122</td>\n",
       "      <td>AY.122</td>\n",
       "      <td>BA.1.15</td>\n",
       "      <td>BA.1.15</td>\n",
       "      <td>BA.4.6</td>\n",
       "    </tr>\n",
       "    <tr>\n",
       "      <th>1</th>\n",
       "      <td>AY.3</td>\n",
       "      <td>B.1</td>\n",
       "      <td>AY.103</td>\n",
       "      <td>AY.103</td>\n",
       "      <td>BA.5</td>\n",
       "    </tr>\n",
       "    <tr>\n",
       "      <th>2</th>\n",
       "      <td>AY.103</td>\n",
       "      <td>AY.103</td>\n",
       "      <td>B.1</td>\n",
       "      <td>SARS-CoV-2</td>\n",
       "      <td>BQ.1.1</td>\n",
       "    </tr>\n",
       "    <tr>\n",
       "      <th>3</th>\n",
       "      <td>SARS-CoV-2</td>\n",
       "      <td>SARS-CoV-2</td>\n",
       "      <td>SARS-CoV-2</td>\n",
       "      <td>BA.2.12.1</td>\n",
       "      <td>SARS-CoV-2</td>\n",
       "    </tr>\n",
       "    <tr>\n",
       "      <th>4</th>\n",
       "      <td>AY.39</td>\n",
       "      <td>AY.39</td>\n",
       "      <td>AY.39</td>\n",
       "      <td>BA.1.18</td>\n",
       "      <td>BA.2</td>\n",
       "    </tr>\n",
       "    <tr>\n",
       "      <th>5</th>\n",
       "      <td>AY.25.1</td>\n",
       "      <td>AY.25.1</td>\n",
       "      <td>AY.25.1</td>\n",
       "      <td>BA.2</td>\n",
       "      <td>BA.2.75</td>\n",
       "    </tr>\n",
       "    <tr>\n",
       "      <th>6</th>\n",
       "      <td>AY.47</td>\n",
       "      <td>BA.1</td>\n",
       "      <td>BA.1.18</td>\n",
       "      <td>BA.2.7</td>\n",
       "      <td>BA.5.2.1</td>\n",
       "    </tr>\n",
       "    <tr>\n",
       "      <th>7</th>\n",
       "      <td>AY.100</td>\n",
       "      <td>AY.4</td>\n",
       "      <td>BA.1</td>\n",
       "      <td>BA.1.1.18</td>\n",
       "      <td>BN.1</td>\n",
       "    </tr>\n",
       "    <tr>\n",
       "      <th>8</th>\n",
       "      <td>AY.44</td>\n",
       "      <td>AY.100</td>\n",
       "      <td>AY.100</td>\n",
       "      <td>BA.2.9</td>\n",
       "      <td>BQ.1</td>\n",
       "    </tr>\n",
       "    <tr>\n",
       "      <th>9</th>\n",
       "      <td>AY.119</td>\n",
       "      <td>AY.119</td>\n",
       "      <td>AY.119</td>\n",
       "      <td>BA.1</td>\n",
       "      <td>CH.1.1</td>\n",
       "    </tr>\n",
       "    <tr>\n",
       "      <th>10</th>\n",
       "      <td>AY.98.1</td>\n",
       "      <td>AY.44</td>\n",
       "      <td>AY.44</td>\n",
       "      <td>BA.2.10</td>\n",
       "      <td>XBB.1</td>\n",
       "    </tr>\n",
       "    <tr>\n",
       "      <th>11</th>\n",
       "      <td>AY.25</td>\n",
       "      <td>AY.98.1</td>\n",
       "      <td>BA.1.1</td>\n",
       "      <td>BA.1.1</td>\n",
       "      <td>BA.5.2</td>\n",
       "    </tr>\n",
       "    <tr>\n",
       "      <th>12</th>\n",
       "      <td>B.1.1</td>\n",
       "      <td>AY.25</td>\n",
       "      <td>AY.25</td>\n",
       "      <td>BA.2.3</td>\n",
       "      <td>BA.5.1</td>\n",
       "    </tr>\n",
       "    <tr>\n",
       "      <th>13</th>\n",
       "      <td>B.1.617.2</td>\n",
       "      <td>AY.3</td>\n",
       "      <td>AY.3</td>\n",
       "      <td>B.1.1.529</td>\n",
       "      <td>B.1.1.529</td>\n",
       "    </tr>\n",
       "    <tr>\n",
       "      <th>14</th>\n",
       "      <td>AY.3.1</td>\n",
       "      <td>B.1.617.2</td>\n",
       "      <td>B.1.617.2</td>\n",
       "      <td>B.1.617.2</td>\n",
       "      <td>BA.5.3.1</td>\n",
       "    </tr>\n",
       "  </tbody>\n",
       "</table>\n",
       "</div>"
      ],
      "text/plain": [
       "    2021-12-01  2021-12-15  2021-12-31  2022-04-23  2022-12-03\n",
       "0       AY.122      AY.122     BA.1.15     BA.1.15      BA.4.6\n",
       "1         AY.3         B.1      AY.103      AY.103        BA.5\n",
       "2       AY.103      AY.103         B.1  SARS-CoV-2      BQ.1.1\n",
       "3   SARS-CoV-2  SARS-CoV-2  SARS-CoV-2   BA.2.12.1  SARS-CoV-2\n",
       "4        AY.39       AY.39       AY.39     BA.1.18        BA.2\n",
       "5      AY.25.1     AY.25.1     AY.25.1        BA.2     BA.2.75\n",
       "6        AY.47        BA.1     BA.1.18      BA.2.7    BA.5.2.1\n",
       "7       AY.100        AY.4        BA.1   BA.1.1.18        BN.1\n",
       "8        AY.44      AY.100      AY.100      BA.2.9        BQ.1\n",
       "9       AY.119      AY.119      AY.119        BA.1      CH.1.1\n",
       "10     AY.98.1       AY.44       AY.44     BA.2.10       XBB.1\n",
       "11       AY.25     AY.98.1      BA.1.1      BA.1.1      BA.5.2\n",
       "12       B.1.1       AY.25       AY.25      BA.2.3      BA.5.1\n",
       "13   B.1.617.2        AY.3        AY.3   B.1.1.529   B.1.1.529\n",
       "14      AY.3.1   B.1.617.2   B.1.617.2   B.1.617.2    BA.5.3.1"
      ]
     },
     "execution_count": 70,
     "metadata": {},
     "output_type": "execute_result"
    }
   ],
   "source": [
    "##not_combined = lists\n",
    "combined = lists\n",
    "lists"
   ]
  },
  {
   "cell_type": "code",
   "execution_count": 71,
   "id": "06a499d5-c395-48de-8270-c3db09ce7333",
   "metadata": {
    "tags": []
   },
   "outputs": [
    {
     "data": {
      "text/html": [
       "<div>\n",
       "<style scoped>\n",
       "    .dataframe tbody tr th:only-of-type {\n",
       "        vertical-align: middle;\n",
       "    }\n",
       "\n",
       "    .dataframe tbody tr th {\n",
       "        vertical-align: top;\n",
       "    }\n",
       "\n",
       "    .dataframe thead tr th {\n",
       "        text-align: left;\n",
       "    }\n",
       "</style>\n",
       "<table border=\"1\" class=\"dataframe\">\n",
       "  <thead>\n",
       "    <tr>\n",
       "      <th></th>\n",
       "      <th colspan=\"2\" halign=\"left\">2021-12-01</th>\n",
       "      <th colspan=\"2\" halign=\"left\">2021-12-15</th>\n",
       "      <th colspan=\"2\" halign=\"left\">2021-12-31</th>\n",
       "      <th colspan=\"2\" halign=\"left\">2022-04-23</th>\n",
       "      <th colspan=\"2\" halign=\"left\">2022-12-03</th>\n",
       "    </tr>\n",
       "    <tr>\n",
       "      <th></th>\n",
       "      <th>self</th>\n",
       "      <th>other</th>\n",
       "      <th>self</th>\n",
       "      <th>other</th>\n",
       "      <th>self</th>\n",
       "      <th>other</th>\n",
       "      <th>self</th>\n",
       "      <th>other</th>\n",
       "      <th>self</th>\n",
       "      <th>other</th>\n",
       "    </tr>\n",
       "  </thead>\n",
       "  <tbody>\n",
       "    <tr>\n",
       "      <th>1</th>\n",
       "      <td>NaN</td>\n",
       "      <td>NaN</td>\n",
       "      <td>AY.103</td>\n",
       "      <td>B.1</td>\n",
       "      <td>NaN</td>\n",
       "      <td>NaN</td>\n",
       "      <td>NaN</td>\n",
       "      <td>NaN</td>\n",
       "      <td>NaN</td>\n",
       "      <td>NaN</td>\n",
       "    </tr>\n",
       "    <tr>\n",
       "      <th>2</th>\n",
       "      <td>NaN</td>\n",
       "      <td>NaN</td>\n",
       "      <td>B.1</td>\n",
       "      <td>AY.103</td>\n",
       "      <td>NaN</td>\n",
       "      <td>NaN</td>\n",
       "      <td>NaN</td>\n",
       "      <td>NaN</td>\n",
       "      <td>SARS-CoV-2</td>\n",
       "      <td>BQ.1.1</td>\n",
       "    </tr>\n",
       "    <tr>\n",
       "      <th>3</th>\n",
       "      <td>NaN</td>\n",
       "      <td>NaN</td>\n",
       "      <td>NaN</td>\n",
       "      <td>NaN</td>\n",
       "      <td>NaN</td>\n",
       "      <td>NaN</td>\n",
       "      <td>BA.1.18</td>\n",
       "      <td>BA.2.12.1</td>\n",
       "      <td>BQ.1.1</td>\n",
       "      <td>SARS-CoV-2</td>\n",
       "    </tr>\n",
       "    <tr>\n",
       "      <th>4</th>\n",
       "      <td>NaN</td>\n",
       "      <td>NaN</td>\n",
       "      <td>NaN</td>\n",
       "      <td>NaN</td>\n",
       "      <td>NaN</td>\n",
       "      <td>NaN</td>\n",
       "      <td>BA.1.1.18</td>\n",
       "      <td>BA.1.18</td>\n",
       "      <td>NaN</td>\n",
       "      <td>NaN</td>\n",
       "    </tr>\n",
       "    <tr>\n",
       "      <th>5</th>\n",
       "      <td>NaN</td>\n",
       "      <td>NaN</td>\n",
       "      <td>NaN</td>\n",
       "      <td>NaN</td>\n",
       "      <td>BA.1.18</td>\n",
       "      <td>AY.25.1</td>\n",
       "      <td>BA.2.7</td>\n",
       "      <td>BA.2</td>\n",
       "      <td>BA.5.2.1</td>\n",
       "      <td>BA.2.75</td>\n",
       "    </tr>\n",
       "    <tr>\n",
       "      <th>6</th>\n",
       "      <td>NaN</td>\n",
       "      <td>NaN</td>\n",
       "      <td>NaN</td>\n",
       "      <td>NaN</td>\n",
       "      <td>AY.25.1</td>\n",
       "      <td>BA.1.18</td>\n",
       "      <td>BA.2.12.1</td>\n",
       "      <td>BA.2.7</td>\n",
       "      <td>BN.1</td>\n",
       "      <td>BA.5.2.1</td>\n",
       "    </tr>\n",
       "    <tr>\n",
       "      <th>7</th>\n",
       "      <td>NaN</td>\n",
       "      <td>NaN</td>\n",
       "      <td>AY.100</td>\n",
       "      <td>AY.4</td>\n",
       "      <td>NaN</td>\n",
       "      <td>NaN</td>\n",
       "      <td>BA.2</td>\n",
       "      <td>BA.1.1.18</td>\n",
       "      <td>BQ.1</td>\n",
       "      <td>BN.1</td>\n",
       "    </tr>\n",
       "    <tr>\n",
       "      <th>8</th>\n",
       "      <td>AY.119</td>\n",
       "      <td>AY.44</td>\n",
       "      <td>AY.4</td>\n",
       "      <td>AY.100</td>\n",
       "      <td>NaN</td>\n",
       "      <td>NaN</td>\n",
       "      <td>NaN</td>\n",
       "      <td>NaN</td>\n",
       "      <td>XBB.1</td>\n",
       "      <td>BQ.1</td>\n",
       "    </tr>\n",
       "    <tr>\n",
       "      <th>9</th>\n",
       "      <td>AY.44</td>\n",
       "      <td>AY.119</td>\n",
       "      <td>NaN</td>\n",
       "      <td>NaN</td>\n",
       "      <td>AY.44</td>\n",
       "      <td>AY.119</td>\n",
       "      <td>NaN</td>\n",
       "      <td>NaN</td>\n",
       "      <td>NaN</td>\n",
       "      <td>NaN</td>\n",
       "    </tr>\n",
       "    <tr>\n",
       "      <th>10</th>\n",
       "      <td>NaN</td>\n",
       "      <td>NaN</td>\n",
       "      <td>NaN</td>\n",
       "      <td>NaN</td>\n",
       "      <td>AY.119</td>\n",
       "      <td>AY.44</td>\n",
       "      <td>NaN</td>\n",
       "      <td>NaN</td>\n",
       "      <td>BA.5.2</td>\n",
       "      <td>XBB.1</td>\n",
       "    </tr>\n",
       "    <tr>\n",
       "      <th>11</th>\n",
       "      <td>NaN</td>\n",
       "      <td>NaN</td>\n",
       "      <td>NaN</td>\n",
       "      <td>NaN</td>\n",
       "      <td>NaN</td>\n",
       "      <td>NaN</td>\n",
       "      <td>NaN</td>\n",
       "      <td>NaN</td>\n",
       "      <td>BA.5.1</td>\n",
       "      <td>BA.5.2</td>\n",
       "    </tr>\n",
       "    <tr>\n",
       "      <th>12</th>\n",
       "      <td>NaN</td>\n",
       "      <td>NaN</td>\n",
       "      <td>NaN</td>\n",
       "      <td>NaN</td>\n",
       "      <td>NaN</td>\n",
       "      <td>NaN</td>\n",
       "      <td>NaN</td>\n",
       "      <td>NaN</td>\n",
       "      <td>B.1.1.529</td>\n",
       "      <td>BA.5.1</td>\n",
       "    </tr>\n",
       "    <tr>\n",
       "      <th>13</th>\n",
       "      <td>NaN</td>\n",
       "      <td>NaN</td>\n",
       "      <td>NaN</td>\n",
       "      <td>NaN</td>\n",
       "      <td>NaN</td>\n",
       "      <td>NaN</td>\n",
       "      <td>NaN</td>\n",
       "      <td>NaN</td>\n",
       "      <td>BA.2.75</td>\n",
       "      <td>B.1.1.529</td>\n",
       "    </tr>\n",
       "  </tbody>\n",
       "</table>\n",
       "</div>"
      ],
      "text/plain": [
       "   2021-12-01         2021-12-15         2021-12-31          2022-04-23  \\\n",
       "         self   other       self   other       self    other       self   \n",
       "1         NaN     NaN     AY.103     B.1        NaN      NaN        NaN   \n",
       "2         NaN     NaN        B.1  AY.103        NaN      NaN        NaN   \n",
       "3         NaN     NaN        NaN     NaN        NaN      NaN    BA.1.18   \n",
       "4         NaN     NaN        NaN     NaN        NaN      NaN  BA.1.1.18   \n",
       "5         NaN     NaN        NaN     NaN    BA.1.18  AY.25.1     BA.2.7   \n",
       "6         NaN     NaN        NaN     NaN    AY.25.1  BA.1.18  BA.2.12.1   \n",
       "7         NaN     NaN     AY.100    AY.4        NaN      NaN       BA.2   \n",
       "8      AY.119   AY.44       AY.4  AY.100        NaN      NaN        NaN   \n",
       "9       AY.44  AY.119        NaN     NaN      AY.44   AY.119        NaN   \n",
       "10        NaN     NaN        NaN     NaN     AY.119    AY.44        NaN   \n",
       "11        NaN     NaN        NaN     NaN        NaN      NaN        NaN   \n",
       "12        NaN     NaN        NaN     NaN        NaN      NaN        NaN   \n",
       "13        NaN     NaN        NaN     NaN        NaN      NaN        NaN   \n",
       "\n",
       "               2022-12-03              \n",
       "        other        self       other  \n",
       "1         NaN         NaN         NaN  \n",
       "2         NaN  SARS-CoV-2      BQ.1.1  \n",
       "3   BA.2.12.1      BQ.1.1  SARS-CoV-2  \n",
       "4     BA.1.18         NaN         NaN  \n",
       "5        BA.2    BA.5.2.1     BA.2.75  \n",
       "6      BA.2.7        BN.1    BA.5.2.1  \n",
       "7   BA.1.1.18        BQ.1        BN.1  \n",
       "8         NaN       XBB.1        BQ.1  \n",
       "9         NaN         NaN         NaN  \n",
       "10        NaN      BA.5.2       XBB.1  \n",
       "11        NaN      BA.5.1      BA.5.2  \n",
       "12        NaN   B.1.1.529      BA.5.1  \n",
       "13        NaN     BA.2.75   B.1.1.529  "
      ]
     },
     "execution_count": 71,
     "metadata": {},
     "output_type": "execute_result"
    }
   ],
   "source": [
    "not_combined.compare(combined)"
   ]
  },
  {
   "cell_type": "code",
   "execution_count": null,
   "id": "1ff34423-6661-432f-a696-01567618e564",
   "metadata": {},
   "outputs": [],
   "source": []
  },
  {
   "cell_type": "code",
   "execution_count": null,
   "id": "5fdc39fa-7826-4385-9e43-909c3cddeb82",
   "metadata": {},
   "outputs": [],
   "source": []
  },
  {
   "cell_type": "code",
   "execution_count": null,
   "id": "42bcb86e-0b7d-4e6e-a70a-3a7b667e34db",
   "metadata": {},
   "outputs": [],
   "source": []
  },
  {
   "cell_type": "code",
   "execution_count": null,
   "id": "d1925da2-6a25-4b00-9205-635c736817fe",
   "metadata": {},
   "outputs": [],
   "source": []
  },
  {
   "cell_type": "code",
   "execution_count": null,
   "id": "71c3caba-e24a-4ea5-9d6a-00ecd0c611a6",
   "metadata": {},
   "outputs": [],
   "source": []
  },
  {
   "cell_type": "markdown",
   "id": "4e6915bf-ee72-42de-898b-e80186b59887",
   "metadata": {},
   "source": [
    "###  PB's original prep and runs"
   ]
  },
  {
   "cell_type": "code",
   "execution_count": 9,
   "id": "2080c6c9-ae39-446d-b075-98e9a95cdcd8",
   "metadata": {
    "tags": []
   },
   "outputs": [],
   "source": [
    "ref_time = pd.to_datetime(\"2024-03-01\")"
   ]
  },
  {
   "cell_type": "code",
   "execution_count": 10,
   "id": "d976f446-6d36-4c30-8076-88559cb29554",
   "metadata": {
    "tags": []
   },
   "outputs": [],
   "source": [
    "data = data[data.date < ref_time]"
   ]
  },
  {
   "cell_type": "code",
   "execution_count": 11,
   "id": "688a0901-2711-4b9e-8236-14553b96f406",
   "metadata": {
    "tags": []
   },
   "outputs": [],
   "source": [
    "time_importance = get_time_importance(1.0, 0.1)\n",
    "distance_badness = get_distance_badness(1.0, 10.0)"
   ]
  },
  {
   "cell_type": "code",
   "execution_count": 12,
   "id": "125bfc71-e9fa-42c3-808c-accb32cda0d8",
   "metadata": {
    "tags": []
   },
   "outputs": [],
   "source": [
    "tree = make_variant_tree(data, ref_time, time_importance)"
   ]
  },
  {
   "cell_type": "code",
   "execution_count": 13,
   "id": "38b2fac5-e647-4b4d-bee6-94babee6035d",
   "metadata": {
    "tags": []
   },
   "outputs": [
    {
     "data": {
      "text/plain": [
       "(1896, 1897)"
      ]
     },
     "execution_count": 13,
     "metadata": {},
     "output_type": "execute_result"
    }
   ],
   "source": [
    "tree.number_of_edges(), tree.number_of_nodes()"
   ]
  },
  {
   "cell_type": "code",
   "execution_count": 14,
   "id": "ee8ba9ed-d1ce-4136-8227-9532df879555",
   "metadata": {
    "tags": []
   },
   "outputs": [],
   "source": [
    "pruned_tree = prune_tree(tree)"
   ]
  },
  {
   "cell_type": "code",
   "execution_count": 15,
   "id": "814000b9-60c0-4154-b81a-61c5afaf40a2",
   "metadata": {
    "tags": []
   },
   "outputs": [
    {
     "data": {
      "text/plain": [
       "(1815, 1816)"
      ]
     },
     "execution_count": 15,
     "metadata": {},
     "output_type": "execute_result"
    }
   ],
   "source": [
    "pruned_tree.number_of_edges(), pruned_tree.number_of_nodes()"
   ]
  },
  {
   "cell_type": "code",
   "execution_count": 16,
   "id": "34f7ec5c-2c23-4eef-a738-0b851f9d3b5b",
   "metadata": {
    "tags": []
   },
   "outputs": [
    {
     "name": "stdout",
     "output_type": "stream",
     "text": [
      "Selected XBB.1.5.106\n",
      "Selected BA.2.48\n",
      "Selected BA.2.28\n",
      "Selected BA.2.26\n",
      "Selected BA.2.9.1\n",
      "Selected BY.1.1.1\n",
      "Selected BL.1\n",
      "Selected B.1.351\n",
      "Selected BQ.1.16\n",
      "Selected XBB.1.16.16\n",
      "Selected XBB.1.12.1\n",
      "Selected BA.5.5\n",
      "Selected BA.5.2.18\n",
      "Selected BM.4.1.1\n",
      "Selected BA.2.54\n",
      "Selected XBB.1.11\n",
      "Selected BU.2\n",
      "Selected XBB.1.5.7\n",
      "Selected BA.2.8\n",
      "CPU times: user 10.6 s, sys: 668 ms, total: 11.3 s\n",
      "Wall time: 18.4 s\n"
     ]
    }
   ],
   "source": [
    "%%time\n",
    "\n",
    "greedy_opt = optimize_greedy(20, pruned_tree, distance_badness, par=num_cpus)"
   ]
  },
  {
   "cell_type": "code",
   "execution_count": 17,
   "id": "8903dce3-468f-4901-b875-0b94b9aff054",
   "metadata": {
    "tags": []
   },
   "outputs": [
    {
     "data": {
      "text/plain": [
       "12335254.858677851"
      ]
     },
     "execution_count": 17,
     "metadata": {},
     "output_type": "execute_result"
    }
   ],
   "source": [
    "v_nia = make_nearest_included_ancestor(greedy_opt, tree, distance_badness)\n",
    "greedy_badness = sum(nia.badness for nia in v_nia.values())\n",
    "greedy_badness"
   ]
  },
  {
   "cell_type": "code",
   "execution_count": 18,
   "id": "0a2c3123-11fd-4ab4-bd3f-e5556dd79793",
   "metadata": {
    "tags": []
   },
   "outputs": [
    {
     "name": "stdout",
     "output_type": "stream",
     "text": [
      "cur_size=2\n",
      "cur_size=3\n",
      "cur_size=4\n",
      "cur_size=5\n",
      "cur_size=6\n",
      "cur_size=7\n",
      "cur_size=8\n",
      "cur_size=9\n",
      "cur_size=10\n",
      "cur_size=11\n",
      "cur_size=12\n",
      "cur_size=13\n",
      "cur_size=14\n",
      "cur_size=15\n",
      "cur_size=16\n",
      "cur_size=17\n",
      "cur_size=18\n",
      "cur_size=19\n",
      "cur_size=20\n",
      "CPU times: user 14.3 s, sys: 1.14 s, total: 15.4 s\n",
      "Wall time: 1min 13s\n"
     ]
    }
   ],
   "source": [
    "%%time\n",
    "\n",
    "beam10_opt = optimize_beam_search(20, 10, pruned_tree, distance_badness, par=num_cpus)"
   ]
  },
  {
   "cell_type": "code",
   "execution_count": 19,
   "id": "197835e7-e50e-491c-b3f5-7be04005e9e6",
   "metadata": {
    "tags": []
   },
   "outputs": [
    {
     "data": {
      "text/plain": [
       "4308.894213959181"
      ]
     },
     "execution_count": 19,
     "metadata": {},
     "output_type": "execute_result"
    }
   ],
   "source": [
    "v_nia = make_nearest_included_ancestor(beam10_opt, tree, distance_badness)\n",
    "beam10_badness = sum(nia.badness for nia in v_nia.values())\n",
    "beam10_badness"
   ]
  },
  {
   "cell_type": "code",
   "execution_count": 20,
   "id": "8e703350-1799-4374-972e-a8906da8f82d",
   "metadata": {
    "tags": []
   },
   "outputs": [
    {
     "data": {
      "text/plain": [
       "frozenset({'BA.2',\n",
       "           'BQ.1',\n",
       "           'CH.1.1',\n",
       "           'EG.5.1',\n",
       "           'FL.1.5',\n",
       "           'GE.1.2.1',\n",
       "           'GJ.1.2',\n",
       "           'HV.1',\n",
       "           'JD.1.1',\n",
       "           'JN.1',\n",
       "           'JN.1.11.1',\n",
       "           'JN.1.4',\n",
       "           'JN.1.8.1',\n",
       "           'SARS-CoV-2',\n",
       "           'XBB',\n",
       "           'XBB.1',\n",
       "           'XBB.1.16',\n",
       "           'XBB.1.5.70',\n",
       "           'XBB.1.9.1',\n",
       "           'XBB.2.3'})"
      ]
     },
     "execution_count": 20,
     "metadata": {},
     "output_type": "execute_result"
    }
   ],
   "source": [
    "beam10_opt"
   ]
  },
  {
   "cell_type": "code",
   "execution_count": 22,
   "id": "2a2255dd-9304-437d-968e-a1cdbb7efca4",
   "metadata": {
    "tags": []
   },
   "outputs": [
    {
     "name": "stdout",
     "output_type": "stream",
     "text": [
      "cur_size=2\n",
      "cur_size=3\n",
      "cur_size=4\n",
      "cur_size=5\n",
      "cur_size=6\n",
      "cur_size=7\n",
      "cur_size=8\n",
      "cur_size=9\n",
      "cur_size=10\n",
      "cur_size=11\n",
      "cur_size=12\n",
      "cur_size=13\n",
      "cur_size=14\n",
      "cur_size=15\n",
      "cur_size=16\n",
      "cur_size=17\n",
      "cur_size=18\n",
      "cur_size=19\n",
      "cur_size=20\n",
      "CPU times: user 17.8 s, sys: 1.05 s, total: 18.8 s\n",
      "Wall time: 2min 14s\n"
     ]
    }
   ],
   "source": [
    "%%time\n",
    "\n",
    "beam20_opt = optimize_beam_search(20, 20, pruned_tree, distance_badness, par=num_cpus)"
   ]
  },
  {
   "cell_type": "code",
   "execution_count": 23,
   "id": "38dd76f5-807f-4598-8ef6-ba4be3ee8a47",
   "metadata": {
    "tags": []
   },
   "outputs": [
    {
     "data": {
      "text/plain": [
       "3934.973136476179"
      ]
     },
     "execution_count": 23,
     "metadata": {},
     "output_type": "execute_result"
    }
   ],
   "source": [
    "v_nia = make_nearest_included_ancestor(beam20_opt, tree, distance_badness)\n",
    "beam20_badness = sum(nia.badness for nia in v_nia.values())\n",
    "beam20_badness"
   ]
  },
  {
   "cell_type": "code",
   "execution_count": 37,
   "id": "e672ab05-7264-441d-a554-ab3070007d71",
   "metadata": {
    "tags": []
   },
   "outputs": [],
   "source": [
    "list1 = pd.DataFrame(list(beam20_opt),columns=['2024-04-02'])\n",
    "list2 = pd.DataFrame(list(beam20_opt),columns=['2024-04-01'])\n",
    "list3 = pd.concat([list1,list2],axis=1)"
   ]
  },
  {
   "cell_type": "code",
   "execution_count": 41,
   "id": "9b9dcc8c-00c5-49e9-ba18-5ed72ddc2c01",
   "metadata": {
    "tags": []
   },
   "outputs": [
    {
     "data": {
      "text/html": [
       "<div>\n",
       "<style scoped>\n",
       "    .dataframe tbody tr th:only-of-type {\n",
       "        vertical-align: middle;\n",
       "    }\n",
       "\n",
       "    .dataframe tbody tr th {\n",
       "        vertical-align: top;\n",
       "    }\n",
       "\n",
       "    .dataframe thead th {\n",
       "        text-align: right;\n",
       "    }\n",
       "</style>\n",
       "<table border=\"1\" class=\"dataframe\">\n",
       "  <thead>\n",
       "    <tr style=\"text-align: right;\">\n",
       "      <th></th>\n",
       "      <th>2024-04-01</th>\n",
       "      <th>2024-04-01</th>\n",
       "      <th>2024-04-01</th>\n",
       "    </tr>\n",
       "  </thead>\n",
       "  <tbody>\n",
       "    <tr>\n",
       "      <th>0</th>\n",
       "      <td>XBB.1.9.1</td>\n",
       "      <td>XBB.1.9.1</td>\n",
       "      <td>XBB.1.9.1</td>\n",
       "    </tr>\n",
       "    <tr>\n",
       "      <th>1</th>\n",
       "      <td>JD.1.1</td>\n",
       "      <td>JD.1.1</td>\n",
       "      <td>JD.1.1</td>\n",
       "    </tr>\n",
       "    <tr>\n",
       "      <th>2</th>\n",
       "      <td>JN.1</td>\n",
       "      <td>JN.1</td>\n",
       "      <td>JN.1</td>\n",
       "    </tr>\n",
       "    <tr>\n",
       "      <th>3</th>\n",
       "      <td>JN.1.4</td>\n",
       "      <td>JN.1.4</td>\n",
       "      <td>JN.1.4</td>\n",
       "    </tr>\n",
       "    <tr>\n",
       "      <th>4</th>\n",
       "      <td>XBB.2.3</td>\n",
       "      <td>XBB.2.3</td>\n",
       "      <td>XBB.2.3</td>\n",
       "    </tr>\n",
       "    <tr>\n",
       "      <th>5</th>\n",
       "      <td>FL.1.5</td>\n",
       "      <td>FL.1.5</td>\n",
       "      <td>FL.1.5</td>\n",
       "    </tr>\n",
       "    <tr>\n",
       "      <th>6</th>\n",
       "      <td>JN.1.8.1</td>\n",
       "      <td>JN.1.8.1</td>\n",
       "      <td>JN.1.8.1</td>\n",
       "    </tr>\n",
       "    <tr>\n",
       "      <th>7</th>\n",
       "      <td>SARS-CoV-2</td>\n",
       "      <td>SARS-CoV-2</td>\n",
       "      <td>SARS-CoV-2</td>\n",
       "    </tr>\n",
       "    <tr>\n",
       "      <th>8</th>\n",
       "      <td>EG.5.1</td>\n",
       "      <td>EG.5.1</td>\n",
       "      <td>EG.5.1</td>\n",
       "    </tr>\n",
       "    <tr>\n",
       "      <th>9</th>\n",
       "      <td>GJ.1.2</td>\n",
       "      <td>GJ.1.2</td>\n",
       "      <td>GJ.1.2</td>\n",
       "    </tr>\n",
       "    <tr>\n",
       "      <th>10</th>\n",
       "      <td>XBB.1.16</td>\n",
       "      <td>XBB.1.16</td>\n",
       "      <td>XBB.1.16</td>\n",
       "    </tr>\n",
       "    <tr>\n",
       "      <th>11</th>\n",
       "      <td>B.1.1.529</td>\n",
       "      <td>B.1.1.529</td>\n",
       "      <td>B.1.1.529</td>\n",
       "    </tr>\n",
       "    <tr>\n",
       "      <th>12</th>\n",
       "      <td>HV.1</td>\n",
       "      <td>HV.1</td>\n",
       "      <td>HV.1</td>\n",
       "    </tr>\n",
       "    <tr>\n",
       "      <th>13</th>\n",
       "      <td>XBB.1</td>\n",
       "      <td>XBB.1</td>\n",
       "      <td>XBB.1</td>\n",
       "    </tr>\n",
       "    <tr>\n",
       "      <th>14</th>\n",
       "      <td>GE.1.2.1</td>\n",
       "      <td>GE.1.2.1</td>\n",
       "      <td>GE.1.2.1</td>\n",
       "    </tr>\n",
       "    <tr>\n",
       "      <th>15</th>\n",
       "      <td>BQ.1</td>\n",
       "      <td>BQ.1</td>\n",
       "      <td>BQ.1</td>\n",
       "    </tr>\n",
       "    <tr>\n",
       "      <th>16</th>\n",
       "      <td>CH.1.1</td>\n",
       "      <td>CH.1.1</td>\n",
       "      <td>CH.1.1</td>\n",
       "    </tr>\n",
       "    <tr>\n",
       "      <th>17</th>\n",
       "      <td>JN.1.11.1</td>\n",
       "      <td>JN.1.11.1</td>\n",
       "      <td>JN.1.11.1</td>\n",
       "    </tr>\n",
       "    <tr>\n",
       "      <th>18</th>\n",
       "      <td>XBB.1.5.70</td>\n",
       "      <td>XBB.1.5.70</td>\n",
       "      <td>XBB.1.5.70</td>\n",
       "    </tr>\n",
       "    <tr>\n",
       "      <th>19</th>\n",
       "      <td>BA.2.86.1</td>\n",
       "      <td>BA.2.86.1</td>\n",
       "      <td>BA.2.86.1</td>\n",
       "    </tr>\n",
       "  </tbody>\n",
       "</table>\n",
       "</div>"
      ],
      "text/plain": [
       "    2024-04-01  2024-04-01  2024-04-01\n",
       "0    XBB.1.9.1   XBB.1.9.1   XBB.1.9.1\n",
       "1       JD.1.1      JD.1.1      JD.1.1\n",
       "2         JN.1        JN.1        JN.1\n",
       "3       JN.1.4      JN.1.4      JN.1.4\n",
       "4      XBB.2.3     XBB.2.3     XBB.2.3\n",
       "5       FL.1.5      FL.1.5      FL.1.5\n",
       "6     JN.1.8.1    JN.1.8.1    JN.1.8.1\n",
       "7   SARS-CoV-2  SARS-CoV-2  SARS-CoV-2\n",
       "8       EG.5.1      EG.5.1      EG.5.1\n",
       "9       GJ.1.2      GJ.1.2      GJ.1.2\n",
       "10    XBB.1.16    XBB.1.16    XBB.1.16\n",
       "11   B.1.1.529   B.1.1.529   B.1.1.529\n",
       "12        HV.1        HV.1        HV.1\n",
       "13       XBB.1       XBB.1       XBB.1\n",
       "14    GE.1.2.1    GE.1.2.1    GE.1.2.1\n",
       "15        BQ.1        BQ.1        BQ.1\n",
       "16      CH.1.1      CH.1.1      CH.1.1\n",
       "17   JN.1.11.1   JN.1.11.1   JN.1.11.1\n",
       "18  XBB.1.5.70  XBB.1.5.70  XBB.1.5.70\n",
       "19   BA.2.86.1   BA.2.86.1   BA.2.86.1"
      ]
     },
     "execution_count": 41,
     "metadata": {},
     "output_type": "execute_result"
    }
   ],
   "source": [
    "list3 = pd.concat([list3,list2],axis=1)\n",
    "list3"
   ]
  },
  {
   "cell_type": "code",
   "execution_count": 42,
   "id": "ea1fdea2-e438-4e71-8b6f-c847bad6c9f0",
   "metadata": {
    "tags": []
   },
   "outputs": [
    {
     "name": "stdout",
     "output_type": "stream",
     "text": [
      "cur_size=2\n",
      "cur_size=3\n"
     ]
    },
    {
     "ename": "KeyboardInterrupt",
     "evalue": "",
     "output_type": "error",
     "traceback": [
      "\u001b[0;31m---------------------------------------------------------------------------\u001b[0m",
      "\u001b[0;31mKeyboardInterrupt\u001b[0m                         Traceback (most recent call last)",
      "File \u001b[0;32m<timed exec>:1\u001b[0m\n",
      "File \u001b[0;32m/sfs/gpfs/tardis/project/bii_nssac/people/bl4zc/variant-list-optimizer/variant_list_optimizer.py:228\u001b[0m, in \u001b[0;36moptimize_beam_search\u001b[0;34m(size, k, tree, distance_badness, par)\u001b[0m\n\u001b[1;32m    224\u001b[0m groups \u001b[38;5;241m=\u001b[39m divide(par, cur_candidates)\n\u001b[1;32m    225\u001b[0m tasks \u001b[38;5;241m=\u001b[39m [\n\u001b[1;32m    226\u001b[0m     eval_candidate_sets\u001b[38;5;241m.\u001b[39mremote(\u001b[38;5;28mlist\u001b[39m(g), tree, distance_badness) \u001b[38;5;28;01mfor\u001b[39;00m g \u001b[38;5;129;01min\u001b[39;00m groups\n\u001b[1;32m    227\u001b[0m ]\n\u001b[0;32m--> 228\u001b[0m results \u001b[38;5;241m=\u001b[39m \u001b[43mray\u001b[49m\u001b[38;5;241;43m.\u001b[39;49m\u001b[43mget\u001b[49m\u001b[43m(\u001b[49m\u001b[43mtasks\u001b[49m\u001b[43m)\u001b[49m\n\u001b[1;32m    229\u001b[0m candidate_badness \u001b[38;5;241m=\u001b[39m {k: v \u001b[38;5;28;01mfor\u001b[39;00m d \u001b[38;5;129;01min\u001b[39;00m results \u001b[38;5;28;01mfor\u001b[39;00m k, v \u001b[38;5;129;01min\u001b[39;00m d\u001b[38;5;241m.\u001b[39mitems()}\n\u001b[1;32m    230\u001b[0m retained_candidates \u001b[38;5;241m=\u001b[39m heapq\u001b[38;5;241m.\u001b[39mnsmallest(k, candidate_badness, key\u001b[38;5;241m=\u001b[39mcandidate_badness\u001b[38;5;241m.\u001b[39mget)  \u001b[38;5;66;03m# type: ignore\u001b[39;00m\n",
      "File \u001b[0;32m~/.local/lib/python3.11/site-packages/ray/_private/auto_init_hook.py:21\u001b[0m, in \u001b[0;36mwrap_auto_init.<locals>.auto_init_wrapper\u001b[0;34m(*args, **kwargs)\u001b[0m\n\u001b[1;32m     18\u001b[0m \u001b[38;5;129m@wraps\u001b[39m(fn)\n\u001b[1;32m     19\u001b[0m \u001b[38;5;28;01mdef\u001b[39;00m \u001b[38;5;21mauto_init_wrapper\u001b[39m(\u001b[38;5;241m*\u001b[39margs, \u001b[38;5;241m*\u001b[39m\u001b[38;5;241m*\u001b[39mkwargs):\n\u001b[1;32m     20\u001b[0m     auto_init_ray()\n\u001b[0;32m---> 21\u001b[0m     \u001b[38;5;28;01mreturn\u001b[39;00m \u001b[43mfn\u001b[49m\u001b[43m(\u001b[49m\u001b[38;5;241;43m*\u001b[39;49m\u001b[43margs\u001b[49m\u001b[43m,\u001b[49m\u001b[43m \u001b[49m\u001b[38;5;241;43m*\u001b[39;49m\u001b[38;5;241;43m*\u001b[39;49m\u001b[43mkwargs\u001b[49m\u001b[43m)\u001b[49m\n",
      "File \u001b[0;32m~/.local/lib/python3.11/site-packages/ray/_private/client_mode_hook.py:103\u001b[0m, in \u001b[0;36mclient_mode_hook.<locals>.wrapper\u001b[0;34m(*args, **kwargs)\u001b[0m\n\u001b[1;32m    101\u001b[0m     \u001b[38;5;28;01mif\u001b[39;00m func\u001b[38;5;241m.\u001b[39m\u001b[38;5;18m__name__\u001b[39m \u001b[38;5;241m!=\u001b[39m \u001b[38;5;124m\"\u001b[39m\u001b[38;5;124minit\u001b[39m\u001b[38;5;124m\"\u001b[39m \u001b[38;5;129;01mor\u001b[39;00m is_client_mode_enabled_by_default:\n\u001b[1;32m    102\u001b[0m         \u001b[38;5;28;01mreturn\u001b[39;00m \u001b[38;5;28mgetattr\u001b[39m(ray, func\u001b[38;5;241m.\u001b[39m\u001b[38;5;18m__name__\u001b[39m)(\u001b[38;5;241m*\u001b[39margs, \u001b[38;5;241m*\u001b[39m\u001b[38;5;241m*\u001b[39mkwargs)\n\u001b[0;32m--> 103\u001b[0m \u001b[38;5;28;01mreturn\u001b[39;00m \u001b[43mfunc\u001b[49m\u001b[43m(\u001b[49m\u001b[38;5;241;43m*\u001b[39;49m\u001b[43margs\u001b[49m\u001b[43m,\u001b[49m\u001b[43m \u001b[49m\u001b[38;5;241;43m*\u001b[39;49m\u001b[38;5;241;43m*\u001b[39;49m\u001b[43mkwargs\u001b[49m\u001b[43m)\u001b[49m\n",
      "File \u001b[0;32m~/.local/lib/python3.11/site-packages/ray/_private/worker.py:2623\u001b[0m, in \u001b[0;36mget\u001b[0;34m(object_refs, timeout)\u001b[0m\n\u001b[1;32m   2617\u001b[0m     \u001b[38;5;28;01mraise\u001b[39;00m \u001b[38;5;167;01mValueError\u001b[39;00m(\n\u001b[1;32m   2618\u001b[0m         \u001b[38;5;124mf\u001b[39m\u001b[38;5;124m\"\u001b[39m\u001b[38;5;124mInvalid type of object refs, \u001b[39m\u001b[38;5;132;01m{\u001b[39;00m\u001b[38;5;28mtype\u001b[39m(object_refs)\u001b[38;5;132;01m}\u001b[39;00m\u001b[38;5;124m, is given. \u001b[39m\u001b[38;5;124m\"\u001b[39m\n\u001b[1;32m   2619\u001b[0m         \u001b[38;5;124m\"\u001b[39m\u001b[38;5;124m'\u001b[39m\u001b[38;5;124mobject_refs\u001b[39m\u001b[38;5;124m'\u001b[39m\u001b[38;5;124m must either be an ObjectRef or a list of ObjectRefs. \u001b[39m\u001b[38;5;124m\"\u001b[39m\n\u001b[1;32m   2620\u001b[0m     )\n\u001b[1;32m   2622\u001b[0m \u001b[38;5;66;03m# TODO(ujvl): Consider how to allow user to retrieve the ready objects.\u001b[39;00m\n\u001b[0;32m-> 2623\u001b[0m values, debugger_breakpoint \u001b[38;5;241m=\u001b[39m \u001b[43mworker\u001b[49m\u001b[38;5;241;43m.\u001b[39;49m\u001b[43mget_objects\u001b[49m\u001b[43m(\u001b[49m\u001b[43mobject_refs\u001b[49m\u001b[43m,\u001b[49m\u001b[43m \u001b[49m\u001b[43mtimeout\u001b[49m\u001b[38;5;241;43m=\u001b[39;49m\u001b[43mtimeout\u001b[49m\u001b[43m)\u001b[49m\n\u001b[1;32m   2624\u001b[0m \u001b[38;5;28;01mfor\u001b[39;00m i, value \u001b[38;5;129;01min\u001b[39;00m \u001b[38;5;28menumerate\u001b[39m(values):\n\u001b[1;32m   2625\u001b[0m     \u001b[38;5;28;01mif\u001b[39;00m \u001b[38;5;28misinstance\u001b[39m(value, RayError):\n",
      "File \u001b[0;32m~/.local/lib/python3.11/site-packages/ray/_private/worker.py:840\u001b[0m, in \u001b[0;36mWorker.get_objects\u001b[0;34m(self, object_refs, timeout)\u001b[0m\n\u001b[1;32m    834\u001b[0m         \u001b[38;5;28;01mraise\u001b[39;00m \u001b[38;5;167;01mTypeError\u001b[39;00m(\n\u001b[1;32m    835\u001b[0m             \u001b[38;5;124mf\u001b[39m\u001b[38;5;124m\"\u001b[39m\u001b[38;5;124mAttempting to call `get` on the value \u001b[39m\u001b[38;5;132;01m{\u001b[39;00mobject_ref\u001b[38;5;132;01m}\u001b[39;00m\u001b[38;5;124m, \u001b[39m\u001b[38;5;124m\"\u001b[39m\n\u001b[1;32m    836\u001b[0m             \u001b[38;5;124m\"\u001b[39m\u001b[38;5;124mwhich is not an ray.ObjectRef.\u001b[39m\u001b[38;5;124m\"\u001b[39m\n\u001b[1;32m    837\u001b[0m         )\n\u001b[1;32m    839\u001b[0m timeout_ms \u001b[38;5;241m=\u001b[39m \u001b[38;5;28mint\u001b[39m(timeout \u001b[38;5;241m*\u001b[39m \u001b[38;5;241m1000\u001b[39m) \u001b[38;5;28;01mif\u001b[39;00m timeout \u001b[38;5;129;01mis\u001b[39;00m \u001b[38;5;129;01mnot\u001b[39;00m \u001b[38;5;28;01mNone\u001b[39;00m \u001b[38;5;28;01melse\u001b[39;00m \u001b[38;5;241m-\u001b[39m\u001b[38;5;241m1\u001b[39m\n\u001b[0;32m--> 840\u001b[0m data_metadata_pairs \u001b[38;5;241m=\u001b[39m \u001b[38;5;28;43mself\u001b[39;49m\u001b[38;5;241;43m.\u001b[39;49m\u001b[43mcore_worker\u001b[49m\u001b[38;5;241;43m.\u001b[39;49m\u001b[43mget_objects\u001b[49m\u001b[43m(\u001b[49m\n\u001b[1;32m    841\u001b[0m \u001b[43m    \u001b[49m\u001b[43mobject_refs\u001b[49m\u001b[43m,\u001b[49m\n\u001b[1;32m    842\u001b[0m \u001b[43m    \u001b[49m\u001b[38;5;28;43mself\u001b[39;49m\u001b[38;5;241;43m.\u001b[39;49m\u001b[43mcurrent_task_id\u001b[49m\u001b[43m,\u001b[49m\n\u001b[1;32m    843\u001b[0m \u001b[43m    \u001b[49m\u001b[43mtimeout_ms\u001b[49m\u001b[43m,\u001b[49m\n\u001b[1;32m    844\u001b[0m \u001b[43m\u001b[49m\u001b[43m)\u001b[49m\n\u001b[1;32m    845\u001b[0m debugger_breakpoint \u001b[38;5;241m=\u001b[39m \u001b[38;5;124mb\u001b[39m\u001b[38;5;124m\"\u001b[39m\u001b[38;5;124m\"\u001b[39m\n\u001b[1;32m    846\u001b[0m \u001b[38;5;28;01mfor\u001b[39;00m data, metadata \u001b[38;5;129;01min\u001b[39;00m data_metadata_pairs:\n",
      "File \u001b[0;32mpython/ray/_raylet.pyx:3481\u001b[0m, in \u001b[0;36mray._raylet.CoreWorker.get_objects\u001b[0;34m()\u001b[0m\n",
      "File \u001b[0;32mpython/ray/_raylet.pyx:571\u001b[0m, in \u001b[0;36mray._raylet.check_status\u001b[0;34m()\u001b[0m\n",
      "\u001b[0;31mKeyboardInterrupt\u001b[0m: "
     ]
    }
   ],
   "source": [
    "%%time\n",
    "\n",
    "beam30_opt = optimize_beam_search(20, 30, pruned_tree, distance_badness, par=num_cpus)"
   ]
  },
  {
   "cell_type": "code",
   "execution_count": 25,
   "id": "fa0d4a32-804e-4f67-b5cd-e958bd12767b",
   "metadata": {},
   "outputs": [
    {
     "data": {
      "text/plain": [
       "3934.973136476179"
      ]
     },
     "execution_count": 25,
     "metadata": {},
     "output_type": "execute_result"
    }
   ],
   "source": [
    "v_nia = make_nearest_included_ancestor(beam30_opt, tree, distance_badness)\n",
    "beam30_badness = sum(nia.badness for nia in v_nia.values())\n",
    "beam30_badness"
   ]
  },
  {
   "cell_type": "code",
   "execution_count": 26,
   "id": "470dd784-5409-4abb-b254-e44e291e49b1",
   "metadata": {},
   "outputs": [
    {
     "data": {
      "text/plain": [
       "frozenset({'B.1.1.529',\n",
       "           'BA.2.86.1',\n",
       "           'BQ.1',\n",
       "           'CH.1.1',\n",
       "           'EG.5.1',\n",
       "           'FL.1.5',\n",
       "           'GE.1.2.1',\n",
       "           'GJ.1.2',\n",
       "           'HV.1',\n",
       "           'JD.1.1',\n",
       "           'JN.1',\n",
       "           'JN.1.11.1',\n",
       "           'JN.1.4',\n",
       "           'JN.1.8.1',\n",
       "           'SARS-CoV-2',\n",
       "           'XBB.1',\n",
       "           'XBB.1.16',\n",
       "           'XBB.1.5.70',\n",
       "           'XBB.1.9.1',\n",
       "           'XBB.2.3'})"
      ]
     },
     "execution_count": 26,
     "metadata": {},
     "output_type": "execute_result"
    }
   ],
   "source": [
    "beam30_opt"
   ]
  },
  {
   "cell_type": "raw",
   "id": "ec6bdb6e-58a2-4c15-b9ce-f0511594ab38",
   "metadata": {},
   "source": []
  }
 ],
 "metadata": {
  "kernelspec": {
   "display_name": "Python 3 (ipykernel)",
   "language": "python",
   "name": "python3"
  },
  "language_info": {
   "codemirror_mode": {
    "name": "ipython",
    "version": 3
   },
   "file_extension": ".py",
   "mimetype": "text/x-python",
   "name": "python",
   "nbconvert_exporter": "python",
   "pygments_lexer": "ipython3",
   "version": "3.11.4"
  }
 },
 "nbformat": 4,
 "nbformat_minor": 5
}
